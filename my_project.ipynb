{
 "cells": [
  {
   "cell_type": "markdown",
   "metadata": {},
   "source": [
    "# SETUP"
   ]
  },
  {
   "cell_type": "code",
   "execution_count": 10,
   "metadata": {},
   "outputs": [
    {
     "data": {
      "text/plain": [
       "True"
      ]
     },
     "execution_count": 10,
     "metadata": {},
     "output_type": "execute_result"
    }
   ],
   "source": [
    "import dotenv\n",
    "\n",
    "dotenv.load_dotenv()"
   ]
  },
  {
   "cell_type": "code",
   "execution_count": 11,
   "metadata": {},
   "outputs": [],
   "source": [
    "from langchain_openai import ChatOpenAI\n",
    "\n",
    "llm = ChatOpenAI(model=\"gpt-4o-mini\")"
   ]
  },
  {
   "cell_type": "code",
   "execution_count": 12,
   "metadata": {},
   "outputs": [],
   "source": [
    "from langchain_openai import OpenAIEmbeddings\n",
    "\n",
    "embeddings = OpenAIEmbeddings(model=\"text-embedding-3-large\")"
   ]
  },
  {
   "cell_type": "markdown",
   "metadata": {},
   "source": [
    "# Document loader"
   ]
  },
  {
   "cell_type": "code",
   "execution_count": 14,
   "metadata": {},
   "outputs": [],
   "source": [
    "from langchain_community.document_loaders import ObsidianLoader"
   ]
  },
  {
   "cell_type": "code",
   "execution_count": 15,
   "metadata": {},
   "outputs": [],
   "source": [
    "loader = ObsidianLoader(r\"/mnt/c/Users/luisl/Documents/Life itself\")\n",
    "docs = loader.load()"
   ]
  },
  {
   "cell_type": "code",
   "execution_count": 16,
   "metadata": {},
   "outputs": [
    {
     "name": "stdout",
     "output_type": "stream",
     "text": [
      "Number of documents loaded: 256\n",
      "\n",
      "First few documents preview:\n",
      "\n",
      "Document 1:\n",
      "Source: Home 🛋️.md\n",
      "Content preview: tags: [[Administración]]\n",
      "\n",
      "[[Finanzas]]\n",
      "[[Nutrición]]\n",
      "- [[Lista de compras - mandado]]\n",
      "- [[Ejercicio]]\n",
      "- meal prep \n",
      "- desayuno, comida, cena\n",
      "\n",
      "[[Goals]]\n",
      "- comprarme una pc\n",
      "- fashion\n",
      "- dibujo\n",
      "\n",
      "- [[Estudi...\n",
      "\n",
      "Document 2:\n",
      "Source: 1ero planes a futuro.md\n",
      "Content preview: 2024-11-22 14:59\n",
      "\n",
      "Status:\n",
      "\n",
      "Tags: [[1. Raw/1ero trader|1ero trader]]\n",
      "\n",
      "# 1ero planes a futuro\n",
      "\n",
      "\n",
      "# Plan de Mejora del Proyecto\n",
      "## 1. Brechas en Recolección de Información\n",
      "### 1.1 Manejo de Información Te...\n",
      "\n",
      "Document 3:\n",
      "Source: 1ero trader mongoDB.md\n",
      "Content preview: 2024-11-11 11:53\n",
      "\n",
      "Status:\n",
      "\n",
      "Tags: [[1. Raw/1ero trader]]\n",
      "\n",
      "# 1ero trader mongoDB\n",
      "\n",
      "Tickers\n",
      "object example:\n",
      "```JSON\n",
      "{\n",
      "  \"_id\": {\n",
      "    \"$oid\": \"651189993ed6e56a7ba6f49a\"\n",
      "  },\n",
      "  \"symbol\": \"IPOOF\",\n",
      "  \"beta\": ...\n"
     ]
    }
   ],
   "source": [
    "print(f\"Number of documents loaded: {len(docs)}\")\n",
    "print(\"\\nFirst few documents preview:\")\n",
    "for i, doc in enumerate(docs[:3]):\n",
    "    print(f\"\\nDocument {i+1}:\")\n",
    "    print(f\"Source: {doc.metadata.get('source', 'No source')}\")\n",
    "    print(f\"Content preview: {doc.page_content[:200]}...\")"
   ]
  },
  {
   "cell_type": "markdown",
   "metadata": {},
   "source": [
    "# Splitter"
   ]
  },
  {
   "cell_type": "code",
   "execution_count": 17,
   "metadata": {},
   "outputs": [
    {
     "name": "stdout",
     "output_type": "stream",
     "text": [
      "Split documents into 861 chunks while preserving original sources.\n"
     ]
    }
   ],
   "source": [
    "from langchain_text_splitters import RecursiveCharacterTextSplitter\n",
    "\n",
    "text_splitter = RecursiveCharacterTextSplitter(\n",
    "    chunk_size=1000,  # chunk size (characters)\n",
    "    chunk_overlap=200,  # chunk overlap (characters)\n",
    "    add_start_index=True,  # track index in original document\n",
    ")\n",
    "\n",
    "# Process each document separately\n",
    "all_splits = []\n",
    "for doc in docs:\n",
    "    splits = text_splitter.split_documents([doc])\n",
    "    # Ensure each split retains the original document source\n",
    "    for split in splits:\n",
    "        split.metadata['source'] = doc.metadata.get('source', 'No source')\n",
    "    all_splits.extend(splits)\n",
    "\n",
    "print(f\"Split documents into {len(all_splits)} chunks while preserving original sources.\")"
   ]
  },
  {
   "cell_type": "markdown",
   "metadata": {},
   "source": [
    "# Vector store"
   ]
  },
  {
   "cell_type": "code",
   "execution_count": 18,
   "metadata": {},
   "outputs": [
    {
     "name": "stdout",
     "output_type": "stream",
     "text": [
      "First few document IDs:\n",
      "['8eae3bfb-6e77-4378-98fb-ed4cf29cc1ab', '1b0ee9d4-79eb-41de-ba6c-f357f8a10bc0', '9befee2d-66c1-40f2-8f6a-59f227d8dd44']\n"
     ]
    }
   ],
   "source": [
    "from langchain_chroma import Chroma\n",
    "from langchain_openai import OpenAIEmbeddings\n",
    "from uuid import uuid4\n",
    "\n",
    "embeddings = OpenAIEmbeddings(model=\"text-embedding-3-large\")\n",
    "\n",
    "vector_store = Chroma(\n",
    "    collection_name=\"obsidian_docs\",\n",
    "    embedding_function=embeddings,\n",
    "    persist_directory=\"./chroma_obsidian_db\"\n",
    ")\n",
    "\n",
    "# Add documents and get their IDs\n",
    "document_ids = [str(uuid4()) for _ in range(len(all_splits))]\n",
    "vector_store.add_documents(documents=all_splits, ids=document_ids)\n",
    "\n",
    "print(\"First few document IDs:\")\n",
    "print(document_ids[:3])"
   ]
  },
  {
   "cell_type": "markdown",
   "metadata": {},
   "source": [
    "# Retrieval and generation"
   ]
  },
  {
   "cell_type": "code",
   "execution_count": 4,
   "metadata": {},
   "outputs": [
    {
     "name": "stdout",
     "output_type": "stream",
     "text": [
      "You are an assistant for question-answering tasks. Use the following pieces of retrieved context to answer the question. If you don't know the answer, just say that you don't know. Use three sentences maximum and keep the answer concise.\n",
      "Question: (question goes here) \n",
      "Context: (context goes here) \n",
      "Answer:\n"
     ]
    }
   ],
   "source": [
    "from langchain import hub\n",
    "\n",
    "prompt = hub.pull(\"rlm/rag-prompt\")\n",
    "\n",
    "example_messages = prompt.invoke(\n",
    "    {\"context\": \"(context goes here)\", \"question\": \"(question goes here)\"}\n",
    ").to_messages()\n",
    "\n",
    "assert len(example_messages) == 1\n",
    "print(example_messages[0].content)"
   ]
  },
  {
   "cell_type": "code",
   "execution_count": 1,
   "metadata": {},
   "outputs": [],
   "source": [
    "from langchain_core.documents import Document\n",
    "from typing_extensions import List, TypedDict\n",
    "\n",
    "\n",
    "class State(TypedDict):\n",
    "    question: str\n",
    "    context: List[Document]\n",
    "    answer: str"
   ]
  },
  {
   "cell_type": "code",
   "execution_count": 2,
   "metadata": {},
   "outputs": [],
   "source": [
    "def retrieve(state: State):\n",
    "    retrieved_docs = vector_store.similarity_search(state[\"question\"])\n",
    "    return {\"context\": retrieved_docs}\n",
    "\n",
    "\n",
    "def generate(state: State):\n",
    "    docs_content = \"\\n\\n\".join(doc.page_content for doc in state[\"context\"])\n",
    "    messages = prompt.invoke({\"question\": state[\"question\"], \"context\": docs_content})\n",
    "    response = llm.invoke(messages)\n",
    "    return {\"answer\": response.content}"
   ]
  },
  {
   "cell_type": "code",
   "execution_count": null,
   "metadata": {},
   "outputs": [],
   "source": []
  },
  {
   "cell_type": "code",
   "execution_count": 3,
   "metadata": {},
   "outputs": [],
   "source": [
    "from langgraph.graph import START, StateGraph\n",
    "\n",
    "graph_builder = StateGraph(State).add_sequence([retrieve, generate])\n",
    "graph_builder.add_edge(START, \"retrieve\")\n",
    "graph = graph_builder.compile()"
   ]
  },
  {
   "cell_type": "code",
   "execution_count": 5,
   "metadata": {},
   "outputs": [
    {
     "data": {
      "image/png": "[encoded data removed]",
      "text/plain": [
       "<IPython.core.display.Image object>"
      ]
     },
     "metadata": {},
     "output_type": "display_data"
    }
   ],
   "source": [
    "from IPython.display import Image, display\n",
    "\n",
    "display(Image(graph.get_graph().draw_mermaid_png()))"
   ]
  },
  {
   "cell_type": "code",
   "execution_count": 19,
   "metadata": {},
   "outputs": [
    {
     "name": "stdout",
     "output_type": "stream",
     "text": [
      "Context: [Document(metadata={'created': 1729579863.116958, 'last_accessed': 1733470529.1726046, 'last_modified': 1729272914.374, 'path': '/mnt/c/Users/luisl/Documents/Life itself/1. Raw/AWS learning.md', 'source': 'AWS learning.md', 'start_index': 637}, page_content='**Week 2: AWS Compute & Networking**\\n\\nWeek 2 is where you will learn how AWS compute services differ from other AWS services. The content for this week covers the basic components of Amazon Elastic Compute Cloud (Amazon EC2) architecture, and how to differentiate between a container and a virtual machine. You will also learn about the features and advantages of using serverless technologies, in addition to basic networking concepts and the features of Amazon Virtual Private Cloud (Amazon VPC).\\n\\n**Week 3: Storage & Databases on AWS**\\n\\nThis week, you will learn important concepts for AWS storage services—such as buckets and objects for Amazon Simple Storage Service (Amazon S3), and how Amazon Elastic Block Store (Amazon EBS) is used on AWS. You will also explore databases on AWS, and the use cases for each AWS storage service.\\n\\n**Week 4: Monitoring, Optimizing, and Going Serverless on AWS**'), Document(metadata={'created': 1729579863.116958, 'last_accessed': 1733470529.1726046, 'last_modified': 1729272914.374, 'path': '/mnt/c/Users/luisl/Documents/Life itself/1. Raw/AWS learning.md', 'source': 'AWS learning.md', 'start_index': 637}, page_content='**Week 2: AWS Compute & Networking**\\n\\nWeek 2 is where you will learn how AWS compute services differ from other AWS services. The content for this week covers the basic components of Amazon Elastic Compute Cloud (Amazon EC2) architecture, and how to differentiate between a container and a virtual machine. You will also learn about the features and advantages of using serverless technologies, in addition to basic networking concepts and the features of Amazon Virtual Private Cloud (Amazon VPC).\\n\\n**Week 3: Storage & Databases on AWS**\\n\\nThis week, you will learn important concepts for AWS storage services—such as buckets and objects for Amazon Simple Storage Service (Amazon S3), and how Amazon Elastic Block Store (Amazon EBS) is used on AWS. You will also explore databases on AWS, and the use cases for each AWS storage service.\\n\\n**Week 4: Monitoring, Optimizing, and Going Serverless on AWS**'), Document(metadata={'created': 1729579863.116958, 'last_accessed': 1733470529.1726046, 'last_modified': 1729272914.374, 'path': '/mnt/c/Users/luisl/Documents/Life itself/1. Raw/AWS learning.md', 'source': 'AWS learning.md', 'start_index': 637}, page_content='**Week 2: AWS Compute & Networking**\\n\\nWeek 2 is where you will learn how AWS compute services differ from other AWS services. The content for this week covers the basic components of Amazon Elastic Compute Cloud (Amazon EC2) architecture, and how to differentiate between a container and a virtual machine. You will also learn about the features and advantages of using serverless technologies, in addition to basic networking concepts and the features of Amazon Virtual Private Cloud (Amazon VPC).\\n\\n**Week 3: Storage & Databases on AWS**\\n\\nThis week, you will learn important concepts for AWS storage services—such as buckets and objects for Amazon Simple Storage Service (Amazon S3), and how Amazon Elastic Block Store (Amazon EBS) is used on AWS. You will also explore databases on AWS, and the use cases for each AWS storage service.\\n\\n**Week 4: Monitoring, Optimizing, and Going Serverless on AWS**'), Document(metadata={'created': 1727130531.3193355, 'last_accessed': 1733470528.8311427, 'last_modified': 1718057220.807, 'path': '/mnt/c/Users/luisl/Documents/Life itself/Resources/Anatomia.md', 'source': 'Anatomia.md', 'start_index': 1716, 'tags': 'teen'}, page_content='**Month 5: Digestive System and Endocrine System**\\n\\n- Focus on the anatomy of the digestive system, including the major organs involved in digestion.\\n- Understand the process of digestion and absorption of nutrients.\\n- Study the endocrine glands and their hormonal functions.\\n- Physiology: Learn about hormone regulation, feedback mechanisms, and their effects on various body processes.\\n\\n**Month 6: Urinary System and Reproductive System**\\n\\n- Study the anatomy of the urinary system, including the kidneys, ureters, and bladder.\\n- Understand the process of urine formation and filtration.\\n- Focus on the male and female reproductive systems.\\n- Physiology: Learn about kidney function, hormonal control of the reproductive system, and the menstrual cycle.\\n\\n**Month 7: Integration and Review**')]\n",
      "\n",
      "\n",
      "Answer: The content covers various topics across different weeks and months, including AWS compute services like EC2 and VPC in Week 2, AWS storage and database services in Week 3, and monitoring and serverless technologies in Week 4. Additionally, there is a focus on the anatomy and physiology of the digestive, urinary, and reproductive systems from Month 5 to Month 7. Key concepts include hormone regulation, nutrient absorption, and urine formation.\n"
     ]
    }
   ],
   "source": [
    "result = graph.invoke({\"question\": \"give me a summary of the content available. all the topics talked about\"})\n",
    "\n",
    "print(f'Context: {result[\"context\"]}\\n\\n')\n",
    "print(f'Answer: {result[\"answer\"]}')"
   ]
  },
  {
   "cell_type": "markdown",
   "metadata": {},
   "source": [
    "# Writer"
   ]
  },
  {
   "cell_type": "code",
   "execution_count": 18,
   "metadata": {},
   "outputs": [],
   "source": [
    "def write_to_obsidian(state: State):\n",
    "    \"\"\"Write the question and answer to an Obsidian note.\"\"\"\n",
    "    from datetime import datetime\n",
    "    import os\n",
    "    \n",
    "    # Configure test vault path in a separate directory\n",
    "    OBSIDIAN_TEST_VAULT = r\"/mnt/c/Users/luisl/Documents/AI_Generated_Notes\"\n",
    "    \n",
    "    # Create filename based on question\n",
    "    safe_filename = \"\".join(x for x in state[\"question\"][:50] if x.isalnum() or x in \" -_\").strip()\n",
    "    filename = f\"{datetime.now().strftime('%Y%m%d')}-{safe_filename}.md\"\n",
    "    filepath = os.path.join(OBSIDIAN_TEST_VAULT, filename)\n",
    "    \n",
    "    # Format the note content with frontmatter and content\n",
    "    note_content = f\"\"\"---\n",
    "created: {datetime.now().strftime('%Y-%m-%d %H:%M:%S')}\n",
    "tags: [ai-generated, test-notes]\n",
    "---\n",
    "\n",
    "# {state[\"question\"]}\n",
    "\n",
    "{state[\"answer\"]}\n",
    "\n",
    "## Sources\n",
    "\"\"\"\n",
    "    \n",
    "    # Add sources from context\n",
    "    for doc in state[\"context\"]:\n",
    "        note_content += f\"\\n- {doc.metadata.get('source', 'Unknown source')}\"\n",
    "    \n",
    "    # Write to file\n",
    "    os.makedirs(OBSIDIAN_TEST_VAULT, exist_ok=True)\n",
    "    with open(filepath, \"w\", encoding=\"utf-8\") as f:\n",
    "        f.write(note_content)\n",
    "    \n",
    "    return {\"obsidian_file\": filepath}\n",
    "\n",
    "# Update the graph to include the writing step\n",
    "graph_builder = StateGraph(State).add_sequence([retrieve, generate, write_to_obsidian])\n",
    "graph_builder.add_edge(START, \"retrieve\")\n",
    "graph = graph_builder.compile()\n"
   ]
  },
  {
   "cell_type": "code",
   "execution_count": 19,
   "metadata": {},
   "outputs": [
    {
     "data": {
      "image/png": "[encoded data removed]",
      "text/plain": [
       "<IPython.core.display.Image object>"
      ]
     },
     "metadata": {},
     "output_type": "display_data"
    }
   ],
   "source": [
    "from IPython.display import Image, display\n",
    "\n",
    "display(Image(graph.get_graph().draw_mermaid_png()))"
   ]
  },
  {
   "cell_type": "code",
   "execution_count": 20,
   "metadata": {},
   "outputs": [
    {
     "name": "stdout",
     "output_type": "stream",
     "text": [
      "Context: [Document(metadata={'created': 1730764614.8512337, 'last_accessed': 1733470527.3838358, 'last_modified': 1730695277.836, 'path': '/mnt/c/Users/luisl/Documents/Life itself/Resources/platillos nuevos.md', 'source': 'platillos nuevos.md', 'start_index': 0, 'tags': 'child'}, page_content='2024-09-14 20:58\\n\\nStatus: #child \\n\\nTags: [[Rutina de salud 🫀]] [[Nutrición]]\\n\\n# posibles platillos nuevos\\nPan frances\\nLentejas\\nCamarones roca\\nCeviche\\n\\n### Nombres de recetas\\n**chocolate chip cookie brittle**\\n **blackberry fool**'), Document(metadata={'created': 1730764614.8512337, 'last_accessed': 1733470527.3838358, 'last_modified': 1730695277.836, 'path': '/mnt/c/Users/luisl/Documents/Life itself/Resources/platillos nuevos.md', 'source': 'platillos nuevos.md', 'start_index': 0, 'tags': 'child'}, page_content='2024-09-14 20:58\\n\\nStatus: #child \\n\\nTags: [[Rutina de salud 🫀]] [[Nutrición]]\\n\\n# posibles platillos nuevos\\nPan frances\\nLentejas\\nCamarones roca\\nCeviche\\n\\n### Nombres de recetas\\n**chocolate chip cookie brittle**\\n **blackberry fool**'), Document(metadata={'created': 1727551194.0652764, 'last_accessed': 1733470527.7123482, 'last_modified': 1727135153.501, 'path': '/mnt/c/Users/luisl/Documents/Life itself/Resources/Lista de compras - mandado.md', 'source': 'Lista de compras - mandado.md', 'start_index': 0, 'tags': 'teen'}, page_content='2024-07-09 21:11\\n\\nStatus: #teen \\n\\nTags: [[Resources/Compras]]\\n\\n# Lista de compras - mandado\\n\\n• **Eggs**: 28 eggs (4 per day).\\n• **Chorizo, ham, salami, jamón serrano**: Around 14 oz for the week (for breakfast protein variety).\\n• **Corn tortillas**: 28 tortillas (4 per day).\\n• **Oats**: 7 cups (for dinner, around 1 cup per day).\\n• **Granola**: 3.5 cups (optional adjustment to reduce quantity).\\n• **Whole milk**: 7 cups (1 per day).\\n• **Greek yogurt** (optional): Adds protein to dinner.\\n• **Chia seeds or nuts** (optional): For better balance with oats.\\n## Comidas\\ntortillas Harina y maíz  ***==Siempre==***\\nPan\\nzuko de sabores\\nleche ***==Siempre==***\\nAvena\\nGranola\\nNor caldo de pollo\\nAcompañante para el desayuno ***==Siempre==***\\nPastel\\nCafé \\nAceite\\nHuevo ***==Siempre==***\\n\\n\\n**==Condimentos (largo plazo)==***\\nAjo en polvo (para la *carne*) $50 15/08'), Document(metadata={'created': 1727551194.0652764, 'last_accessed': 1733470527.7123482, 'last_modified': 1727135153.501, 'path': '/mnt/c/Users/luisl/Documents/Life itself/Resources/Lista de compras - mandado.md', 'source': 'Lista de compras - mandado.md', 'start_index': 0, 'tags': 'teen'}, page_content='2024-07-09 21:11\\n\\nStatus: #teen \\n\\nTags: [[Resources/Compras]]\\n\\n# Lista de compras - mandado\\n\\n• **Eggs**: 28 eggs (4 per day).\\n• **Chorizo, ham, salami, jamón serrano**: Around 14 oz for the week (for breakfast protein variety).\\n• **Corn tortillas**: 28 tortillas (4 per day).\\n• **Oats**: 7 cups (for dinner, around 1 cup per day).\\n• **Granola**: 3.5 cups (optional adjustment to reduce quantity).\\n• **Whole milk**: 7 cups (1 per day).\\n• **Greek yogurt** (optional): Adds protein to dinner.\\n• **Chia seeds or nuts** (optional): For better balance with oats.\\n## Comidas\\ntortillas Harina y maíz  ***==Siempre==***\\nPan\\nzuko de sabores\\nleche ***==Siempre==***\\nAvena\\nGranola\\nNor caldo de pollo\\nAcompañante para el desayuno ***==Siempre==***\\nPastel\\nCafé \\nAceite\\nHuevo ***==Siempre==***\\n\\n\\n**==Condimentos (largo plazo)==***\\nAjo en polvo (para la *carne*) $50 15/08')]\n",
      "\n",
      "\n",
      "Answer: For meal preparation, you have a variety of options including French bread, lentils, rock shrimp, ceviche, and specific recipes like chocolate chip cookie brittle and blackberry fool. Additionally, there are essential grocery items such as eggs, chorizo, corn tortillas, oats, and whole milk available for daily meals. These ingredients can support a balanced and diverse diet.\n"
     ]
    }
   ],
   "source": [
    "result = graph.invoke({\"question\": \"what content do you have available for meal preparation?\"})\n",
    "\n",
    "print(f'Context: {result[\"context\"]}\\n\\n')\n",
    "print(f'Answer: {result[\"answer\"]}')"
   ]
  },
  {
   "cell_type": "markdown",
   "metadata": {},
   "source": [
    "# Vault manager"
   ]
  },
  {
   "cell_type": "code",
   "execution_count": 21,
   "metadata": {},
   "outputs": [],
   "source": [
    "class TestVaultManager:\n",
    "    def __init__(self, vault_path: str, vector_store: Chroma):\n",
    "        self.vault_path = vault_path\n",
    "        self.vector_store = vector_store\n",
    "        self.file_to_ids = {}  # Keep track of which IDs belong to which files\n",
    "        \n",
    "    def add_note(self, title: str, content: str) -> str:\n",
    "        \"\"\"Add a new note and its vectors\"\"\"\n",
    "        # Create file path\n",
    "        file_path = os.path.join(self.vault_path, f\"{title}.md\")\n",
    "        \n",
    "        # Create document and get its ID\n",
    "        doc = Document(page_content=content, metadata={\"source\": {title}})\n",
    "        doc_id = str(uuid4())\n",
    "        \n",
    "        # Save to Obsidian\n",
    "        with open(file_path, \"w\") as f:\n",
    "            f.write(content)\n",
    "            \n",
    "        # Save to vector store\n",
    "        self.vector_store.add_documents([doc], ids=[doc_id])\n",
    "        self.file_to_ids[file_path] = doc_id\n",
    "        \n",
    "        return doc_id"
   ]
  },
  {
   "cell_type": "code",
   "execution_count": 22,
   "metadata": {},
   "outputs": [],
   "source": [
    "import os\n",
    "\n",
    "# Initialize test environment\n",
    "test_vault_path = \"./test_vault\"\n",
    "os.makedirs(test_vault_path, exist_ok=True)\n",
    "\n",
    "test_vector_store = Chroma(\n",
    "    collection_name=\"test_vault\",\n",
    "    embedding_function=embeddings,\n",
    "    persist_directory=\"./test_chroma_db\"\n",
    ")\n",
    "\n",
    "vault_manager = TestVaultManager(test_vault_path, test_vector_store)\n",
    "\n",
    "# Create a test note\n",
    "note_id = vault_manager.add_note(\n",
    "    \"test_note\",\n",
    "    \"\"\"# Test Note\n",
    "    This is a test note to understand vector store management.\n",
    "    \"\"\"\n",
    ")"
   ]
  },
  {
   "cell_type": "code",
   "execution_count": null,
   "metadata": {},
   "outputs": [],
   "source": []
  },
  {
   "cell_type": "code",
   "execution_count": 43,
   "metadata": {},
   "outputs": [],
   "source": [
    "def parse_obsidian_note(doc):\n",
    "    \"\"\"Parse a single Obsidian note and extract its components\"\"\"\n",
    "    import re\n",
    "    from datetime import datetime\n",
    "    \n",
    "    content = doc.page_content\n",
    "    \n",
    "    # Define regex patterns\n",
    "    date_pattern = r\"(\\d{4}-\\d{2}-\\d{2}\\s+\\d{2}:\\d{2})\"\n",
    "    status_pattern = r\"Status:\\s*#(\\w+)\"\n",
    "    tags_pattern = r\"Tags:\\s*((?:\\[\\[.*?\\]\\](?:\\s|$))*)\"\n",
    "    wikilink_pattern = r\"\\[\\[(.*?)\\]\\]\"\n",
    "    title_pattern = r\"#\\s+(.+)$\"\n",
    "    \n",
    "    # Extract components\n",
    "    date_match = re.search(date_pattern, content)\n",
    "    date = datetime.strptime(date_match.group(1), \"%Y-%m-%d %H:%M\") if date_match else None\n",
    "    \n",
    "    status_match = re.search(status_pattern, content)\n",
    "    status = status_match.group(1) if status_match else None\n",
    "    \n",
    "    tags_match = re.search(tags_pattern, content)\n",
    "    tags = []\n",
    "    if tags_match:\n",
    "        tags_section = tags_match.group(1)\n",
    "        tags = re.findall(wikilink_pattern, tags_section)\n",
    "    \n",
    "    # Extract title (first # heading)\n",
    "    title_match = re.search(title_pattern, content, re.MULTILINE)\n",
    "    title = title_match.group(1) if title_match else \"Untitled\"\n",
    "    \n",
    "    # Extract actual content (everything after the title)\n",
    "    content_parts = content.split(\"\\n# \" + title)\n",
    "    actual_content = content_parts[1].strip() if len(content_parts) > 1 else \"\"\n",
    "    \n",
    "    return {\n",
    "        \"date\": date,\n",
    "        \"status\": status,\n",
    "        \"tags\": tags,\n",
    "        \"title\": title,\n",
    "        \"source_path\": doc.metadata.get('source', ''),\n",
    "        \"content\": actual_content\n",
    "    }"
   ]
  },
  {
   "cell_type": "code",
   "execution_count": 44,
   "metadata": {},
   "outputs": [
    {
     "name": "stdout",
     "output_type": "stream",
     "text": [
      "Parsed Note:\n",
      "Date: 2024-06-19 11:06:00\n",
      "Status: teen\n",
      "Tags: ['Información', 'ML']\n",
      "Title: Github repos similares\n",
      "Source: Github repos similares de interactionAI.md\n"
     ]
    }
   ],
   "source": [
    "# Test the parser with first document\n",
    "first_doc = docs[125]\n",
    "parsed = parse_obsidian_note(first_doc)\n",
    "\n",
    "print(\"Parsed Note:\")\n",
    "print(f\"Date: {parsed['date']}\")\n",
    "print(f\"Status: {parsed['status']}\")\n",
    "print(f\"Tags: {parsed['tags']}\")\n",
    "print(f\"Title: {parsed['title']}\")\n",
    "print(f\"Source: {parsed['source_path']}\")"
   ]
  },
  {
   "cell_type": "code",
   "execution_count": 47,
   "metadata": {},
   "outputs": [],
   "source": [
    "from langchain_core.prompts import ChatPromptTemplate\n",
    "\n",
    "classification_prompt = ChatPromptTemplate.from_template(\n",
    "    \"\"\"You are a document classifier. Given a note's title and content, classify it according to our hierarchical taxonomy.\n",
    "    Return ONLY the most specific and relevant category codes (maximum 3).\n",
    "    \n",
    "    If you find that the note content would be better served by a new category that doesn't exist in the taxonomy,\n",
    "    suggest it using the format NEW-CAT: TEC-GIT-REP (Git Repository Management).\n",
    "\n",
    "    Taxonomy:\n",
    "    Technical (TEC):\n",
    "    - Programming (TEC-PRO): Languages (TEC-PRO-PY, JS), Frameworks (TEC-PRO-REA, TF), Development (TEC-PRO-SDP)\n",
    "    - Mathematics (TEC-MAT): Pure (TEC-MAT-ALG, CAL), Applied (TEC-MAT-STA)\n",
    "    - Machine Learning (TEC-ML): Algorithms (TEC-ML-SUP, UNS), Applications (TEC-ML-NLP, CV)\n",
    "    \n",
    "    Personal Development (PER):\n",
    "    - Learning (PER-LEA): Strategies (PER-LEA-SPR), Cognition (PER-LEA-COG), Memory (PER-LEA-MEM)\n",
    "    - Information (PER-INF): Knowledge Management (PER-INF-KM), Note-Taking (PER-INF-NOT)\n",
    "    - Productivity (PER-PRO): Goals (PER-PRO-GOA), Time Management (PER-PRO-TIM)\n",
    "    \n",
    "    Lifestyle (LIF):\n",
    "    - Health (LIF-HEA): Exercise (LIF-HEA-EXE), Nutrition (LIF-HEA-NUT), Mental (LIF-HEA-MEN)\n",
    "    - Finance (LIF-FIN): Budgeting (LIF-FIN-BUD), Investing (LIF-FIN-INV)\n",
    "    - Entertainment (LIF-ENT): Media (LIF-ENT-BOO, MOV), Hobbies (LIF-ENT-HOB)\n",
    "\n",
    "    Note Title: {title}\n",
    "    Note Content: {content}\n",
    "\n",
    "    Return only the category codes, separated by spaces. If suggesting new categories, add them after existing codes.\n",
    "    Example: TEC-ML-CV TEC-ML-PYT NEW-CAT: TEC-GIT-REP (Git Repository Management)\n",
    "    Categories:\"\"\")\n",
    "\n",
    "def classify_note(llm, title, content):\n",
    "    \"\"\"Use LLM to classify note content into our taxonomy\"\"\"\n",
    "    response = llm.invoke(classification_prompt.format(\n",
    "        title=title,\n",
    "        content=content[:1000]  # Limit content length\n",
    "    ))\n",
    "    \n",
    "    # Split and clean the response\n",
    "    categories = []\n",
    "    parts = response.content.strip().split()\n",
    "    \n",
    "    for part in parts:\n",
    "        # Skip parenthetical explanations and NEW-CAT markers\n",
    "        if part.startswith('(') or part == 'NEW-CAT:':\n",
    "            continue\n",
    "        # Only add valid category codes\n",
    "        if '-' in part and any(part.startswith(prefix) for prefix in ['TEC', 'PER', 'LIF']):\n",
    "            categories.append(part)\n",
    "            \n",
    "    return categories"
   ]
  },
  {
   "cell_type": "code",
   "execution_count": 48,
   "metadata": {},
   "outputs": [],
   "source": [
    "def transform_note(parsed_note, concepts):\n",
    "    \"\"\"Transform parsed note into new format with YAML frontmatter\"\"\"\n",
    "    # Format the date from parsed note\n",
    "    created_date = parsed_note['date'].strftime(\"%Y-%m-%dT%H:%M\") if parsed_note['date'] else datetime.now().strftime(\"%Y-%m-%dT%H:%M\")\n",
    "    \n",
    "    # Format concepts with # prefix, filtering out any malformed ones\n",
    "    formatted_concepts = ' '.join(f\"#{concept}\" for concept in concepts \n",
    "                                if '-' in concept and any(concept.startswith(prefix) \n",
    "                                for prefix in ['TEC', 'PER', 'LIF']))\n",
    "    \n",
    "    # Create the YAML frontmatter\n",
    "    yaml_header = f\"\"\"---\n",
    "created: {created_date}\n",
    "status: {parsed_note['status'] or 'child'}\n",
    "concepts: {formatted_concepts}\n",
    "---\"\"\"\n",
    "    \n",
    "    # Format tags with wiki-links\n",
    "    tags_line = f\"Tags: {' '.join('[[' + tag + ']]' for tag in parsed_note['tags'])}\" if parsed_note['tags'] else \"\"\n",
    "    \n",
    "    # Combine all parts\n",
    "    new_content = f\"{yaml_header}\\n\\n{tags_line}\\n\\n# {parsed_note['title']}\\n\\n{parsed_note['content']}\"\n",
    "    \n",
    "    return new_content"
   ]
  },
  {
   "cell_type": "code",
   "execution_count": 49,
   "metadata": {},
   "outputs": [
    {
     "name": "stdout",
     "output_type": "stream",
     "text": [
      "Transformed Note:\n",
      "---\n",
      "created: 2024-06-19T11:06\n",
      "status: teen\n",
      "concepts: #TEC-PRO-REP #TEC-GIT-REP\n",
      "---\n",
      "\n",
      "Tags: [[Información]] [[ML]]\n",
      "\n",
      "# Github repos similares\n",
      "\n",
      "https://github.com/asingh33/CNNGestureRecognizer\n",
      "\n",
      "\n",
      "https://github.com/vladmandic/human\n",
      "\n",
      "https://github.com/JoseExposito/touchegg\n",
      ".\n",
      "https://arxiv.org/archive/cs.CV\n",
      "\n",
      "\n",
      "https://pyimagesearch.com/2019/09/02/opencv-stream-video-to-web-browser-html-page/\n"
     ]
    }
   ],
   "source": [
    "# Process a single note\n",
    "test_doc = docs[125]\n",
    "parsed = parse_obsidian_note(test_doc)\n",
    "concepts = classify_note(llm, parsed['title'], parsed['content'])\n",
    "new_note = transform_note(parsed, concepts)\n",
    "\n",
    "print(\"Transformed Note:\")\n",
    "print(new_note)"
   ]
  },
  {
   "cell_type": "markdown",
   "metadata": {},
   "source": []
  },
  {
   "cell_type": "code",
   "execution_count": 41,
   "metadata": {},
   "outputs": [
    {
     "name": "stdout",
     "output_type": "stream",
     "text": [
      "['TEC-ML-CV', 'TEC-ML-UNS', 'NEW-CAT:', 'TEC-GIT-REP', '(Git', 'Repository', 'Management)']\n"
     ]
    }
   ],
   "source": [
    "print(concepts)"
   ]
  },
  {
   "cell_type": "code",
   "execution_count": 52,
   "metadata": {},
   "outputs": [
    {
     "ename": "ValueError",
     "evalue": "Expected metadata value to be a str, int, float or bool, got None which is a NoneType in upsert.\n\nTry filtering complex metadata from the document using langchain_community.vectorstores.utils.filter_complex_metadata.",
     "output_type": "error",
     "traceback": [
      "\u001b[0;31m---------------------------------------------------------------------------\u001b[0m",
      "\u001b[0;31mValueError\u001b[0m                                Traceback (most recent call last)",
      "File \u001b[0;32m~/lang_project/envir/lib/python3.12/site-packages/chromadb/api/models/CollectionCommon.py:90\u001b[0m, in \u001b[0;36mvalidation_context.<locals>.decorator.<locals>.wrapper\u001b[0;34m(self, *args, **kwargs)\u001b[0m\n\u001b[1;32m     89\u001b[0m \u001b[38;5;28;01mtry\u001b[39;00m:\n\u001b[0;32m---> 90\u001b[0m     \u001b[38;5;28;01mreturn\u001b[39;00m \u001b[43mfunc\u001b[49m\u001b[43m(\u001b[49m\u001b[38;5;28;43mself\u001b[39;49m\u001b[43m,\u001b[49m\u001b[43m \u001b[49m\u001b[38;5;241;43m*\u001b[39;49m\u001b[43margs\u001b[49m\u001b[43m,\u001b[49m\u001b[43m \u001b[49m\u001b[38;5;241;43m*\u001b[39;49m\u001b[38;5;241;43m*\u001b[39;49m\u001b[43mkwargs\u001b[49m\u001b[43m)\u001b[49m\n\u001b[1;32m     91\u001b[0m \u001b[38;5;28;01mexcept\u001b[39;00m \u001b[38;5;167;01mException\u001b[39;00m \u001b[38;5;28;01mas\u001b[39;00m e:\n",
      "File \u001b[0;32m~/lang_project/envir/lib/python3.12/site-packages/chromadb/api/models/CollectionCommon.py:399\u001b[0m, in \u001b[0;36mCollectionCommon._validate_and_prepare_upsert_request\u001b[0;34m(self, ids, embeddings, metadatas, documents, images, uris)\u001b[0m\n\u001b[1;32m    398\u001b[0m \u001b[38;5;66;03m# Validate\u001b[39;00m\n\u001b[0;32m--> 399\u001b[0m \u001b[43mvalidate_insert_record_set\u001b[49m\u001b[43m(\u001b[49m\u001b[43mrecord_set\u001b[49m\u001b[38;5;241;43m=\u001b[39;49m\u001b[43mupsert_records\u001b[49m\u001b[43m)\u001b[49m\n\u001b[1;32m    401\u001b[0m \u001b[38;5;66;03m# Prepare\u001b[39;00m\n",
      "File \u001b[0;32m~/lang_project/envir/lib/python3.12/site-packages/chromadb/api/types.py:230\u001b[0m, in \u001b[0;36mvalidate_insert_record_set\u001b[0;34m(record_set)\u001b[0m\n\u001b[1;32m    229\u001b[0m \u001b[38;5;28;01mif\u001b[39;00m record_set[\u001b[38;5;124m\"\u001b[39m\u001b[38;5;124mmetadatas\u001b[39m\u001b[38;5;124m\"\u001b[39m] \u001b[38;5;129;01mis\u001b[39;00m \u001b[38;5;129;01mnot\u001b[39;00m \u001b[38;5;28;01mNone\u001b[39;00m:\n\u001b[0;32m--> 230\u001b[0m     \u001b[43mvalidate_metadatas\u001b[49m\u001b[43m(\u001b[49m\u001b[43mrecord_set\u001b[49m\u001b[43m[\u001b[49m\u001b[38;5;124;43m\"\u001b[39;49m\u001b[38;5;124;43mmetadatas\u001b[39;49m\u001b[38;5;124;43m\"\u001b[39;49m\u001b[43m]\u001b[49m\u001b[43m)\u001b[49m\n",
      "File \u001b[0;32m~/lang_project/envir/lib/python3.12/site-packages/chromadb/api/types.py:592\u001b[0m, in \u001b[0;36mvalidate_metadatas\u001b[0;34m(metadatas)\u001b[0m\n\u001b[1;32m    591\u001b[0m \u001b[38;5;28;01mfor\u001b[39;00m metadata \u001b[38;5;129;01min\u001b[39;00m metadatas:\n\u001b[0;32m--> 592\u001b[0m     \u001b[43mvalidate_metadata\u001b[49m\u001b[43m(\u001b[49m\u001b[43mmetadata\u001b[49m\u001b[43m)\u001b[49m\n\u001b[1;32m    593\u001b[0m \u001b[38;5;28;01mreturn\u001b[39;00m metadatas\n",
      "File \u001b[0;32m~/lang_project/envir/lib/python3.12/site-packages/chromadb/api/types.py:558\u001b[0m, in \u001b[0;36mvalidate_metadata\u001b[0;34m(metadata)\u001b[0m\n\u001b[1;32m    557\u001b[0m     \u001b[38;5;28;01mif\u001b[39;00m \u001b[38;5;129;01mnot\u001b[39;00m \u001b[38;5;28misinstance\u001b[39m(value, \u001b[38;5;28mbool\u001b[39m) \u001b[38;5;129;01mand\u001b[39;00m \u001b[38;5;129;01mnot\u001b[39;00m \u001b[38;5;28misinstance\u001b[39m(value, (\u001b[38;5;28mstr\u001b[39m, \u001b[38;5;28mint\u001b[39m, \u001b[38;5;28mfloat\u001b[39m)):\n\u001b[0;32m--> 558\u001b[0m         \u001b[38;5;28;01mraise\u001b[39;00m \u001b[38;5;167;01mValueError\u001b[39;00m(\n\u001b[1;32m    559\u001b[0m             \u001b[38;5;124mf\u001b[39m\u001b[38;5;124m\"\u001b[39m\u001b[38;5;124mExpected metadata value to be a str, int, float or bool, got \u001b[39m\u001b[38;5;132;01m{\u001b[39;00mvalue\u001b[38;5;132;01m}\u001b[39;00m\u001b[38;5;124m which is a \u001b[39m\u001b[38;5;132;01m{\u001b[39;00m\u001b[38;5;28mtype\u001b[39m(value)\u001b[38;5;241m.\u001b[39m\u001b[38;5;18m__name__\u001b[39m\u001b[38;5;132;01m}\u001b[39;00m\u001b[38;5;124m\"\u001b[39m\n\u001b[1;32m    560\u001b[0m         )\n\u001b[1;32m    561\u001b[0m \u001b[38;5;28;01mreturn\u001b[39;00m metadata\n",
      "\u001b[0;31mValueError\u001b[0m: Expected metadata value to be a str, int, float or bool, got None which is a NoneType",
      "\nDuring handling of the above exception, another exception occurred:\n",
      "\u001b[0;31mValueError\u001b[0m                                Traceback (most recent call last)",
      "File \u001b[0;32m~/lang_project/envir/lib/python3.12/site-packages/langchain_chroma/vectorstores.py:530\u001b[0m, in \u001b[0;36mChroma.add_texts\u001b[0;34m(self, texts, metadatas, ids, **kwargs)\u001b[0m\n\u001b[1;32m    529\u001b[0m \u001b[38;5;28;01mtry\u001b[39;00m:\n\u001b[0;32m--> 530\u001b[0m     \u001b[38;5;28;43mself\u001b[39;49m\u001b[38;5;241;43m.\u001b[39;49m\u001b[43m_collection\u001b[49m\u001b[38;5;241;43m.\u001b[39;49m\u001b[43mupsert\u001b[49m\u001b[43m(\u001b[49m\n\u001b[1;32m    531\u001b[0m \u001b[43m        \u001b[49m\u001b[43mmetadatas\u001b[49m\u001b[38;5;241;43m=\u001b[39;49m\u001b[43mmetadatas\u001b[49m\u001b[43m,\u001b[49m\u001b[43m  \u001b[49m\u001b[38;5;66;43;03m# type: ignore\u001b[39;49;00m\n\u001b[1;32m    532\u001b[0m \u001b[43m        \u001b[49m\u001b[43membeddings\u001b[49m\u001b[38;5;241;43m=\u001b[39;49m\u001b[43membeddings_with_metadatas\u001b[49m\u001b[43m,\u001b[49m\u001b[43m  \u001b[49m\u001b[38;5;66;43;03m# type: ignore\u001b[39;49;00m\n\u001b[1;32m    533\u001b[0m \u001b[43m        \u001b[49m\u001b[43mdocuments\u001b[49m\u001b[38;5;241;43m=\u001b[39;49m\u001b[43mtexts_with_metadatas\u001b[49m\u001b[43m,\u001b[49m\n\u001b[1;32m    534\u001b[0m \u001b[43m        \u001b[49m\u001b[43mids\u001b[49m\u001b[38;5;241;43m=\u001b[39;49m\u001b[43mids_with_metadata\u001b[49m\u001b[43m,\u001b[49m\n\u001b[1;32m    535\u001b[0m \u001b[43m    \u001b[49m\u001b[43m)\u001b[49m\n\u001b[1;32m    536\u001b[0m \u001b[38;5;28;01mexcept\u001b[39;00m \u001b[38;5;167;01mValueError\u001b[39;00m \u001b[38;5;28;01mas\u001b[39;00m e:\n",
      "File \u001b[0;32m~/lang_project/envir/lib/python3.12/site-packages/chromadb/api/models/Collection.py:334\u001b[0m, in \u001b[0;36mCollection.upsert\u001b[0;34m(self, ids, embeddings, metadatas, documents, images, uris)\u001b[0m\n\u001b[1;32m    323\u001b[0m \u001b[38;5;250m\u001b[39m\u001b[38;5;124;03m\"\"\"Update the embeddings, metadatas or documents for provided ids, or create them if they don't exist.\u001b[39;00m\n\u001b[1;32m    324\u001b[0m \n\u001b[1;32m    325\u001b[0m \u001b[38;5;124;03mArgs:\u001b[39;00m\n\u001b[0;32m   (...)\u001b[0m\n\u001b[1;32m    332\u001b[0m \u001b[38;5;124;03m    None\u001b[39;00m\n\u001b[1;32m    333\u001b[0m \u001b[38;5;124;03m\"\"\"\u001b[39;00m\n\u001b[0;32m--> 334\u001b[0m upsert_request \u001b[38;5;241m=\u001b[39m \u001b[38;5;28;43mself\u001b[39;49m\u001b[38;5;241;43m.\u001b[39;49m\u001b[43m_validate_and_prepare_upsert_request\u001b[49m\u001b[43m(\u001b[49m\n\u001b[1;32m    335\u001b[0m \u001b[43m    \u001b[49m\u001b[43mids\u001b[49m\u001b[38;5;241;43m=\u001b[39;49m\u001b[43mids\u001b[49m\u001b[43m,\u001b[49m\n\u001b[1;32m    336\u001b[0m \u001b[43m    \u001b[49m\u001b[43membeddings\u001b[49m\u001b[38;5;241;43m=\u001b[39;49m\u001b[43membeddings\u001b[49m\u001b[43m,\u001b[49m\n\u001b[1;32m    337\u001b[0m \u001b[43m    \u001b[49m\u001b[43mmetadatas\u001b[49m\u001b[38;5;241;43m=\u001b[39;49m\u001b[43mmetadatas\u001b[49m\u001b[43m,\u001b[49m\n\u001b[1;32m    338\u001b[0m \u001b[43m    \u001b[49m\u001b[43mdocuments\u001b[49m\u001b[38;5;241;43m=\u001b[39;49m\u001b[43mdocuments\u001b[49m\u001b[43m,\u001b[49m\n\u001b[1;32m    339\u001b[0m \u001b[43m    \u001b[49m\u001b[43mimages\u001b[49m\u001b[38;5;241;43m=\u001b[39;49m\u001b[43mimages\u001b[49m\u001b[43m,\u001b[49m\n\u001b[1;32m    340\u001b[0m \u001b[43m    \u001b[49m\u001b[43muris\u001b[49m\u001b[38;5;241;43m=\u001b[39;49m\u001b[43muris\u001b[49m\u001b[43m,\u001b[49m\n\u001b[1;32m    341\u001b[0m \u001b[43m\u001b[49m\u001b[43m)\u001b[49m\n\u001b[1;32m    343\u001b[0m \u001b[38;5;28mself\u001b[39m\u001b[38;5;241m.\u001b[39m_client\u001b[38;5;241m.\u001b[39m_upsert(\n\u001b[1;32m    344\u001b[0m     collection_id\u001b[38;5;241m=\u001b[39m\u001b[38;5;28mself\u001b[39m\u001b[38;5;241m.\u001b[39mid,\n\u001b[1;32m    345\u001b[0m     ids\u001b[38;5;241m=\u001b[39mupsert_request[\u001b[38;5;124m\"\u001b[39m\u001b[38;5;124mids\u001b[39m\u001b[38;5;124m\"\u001b[39m],\n\u001b[0;32m   (...)\u001b[0m\n\u001b[1;32m    349\u001b[0m     uris\u001b[38;5;241m=\u001b[39mupsert_request[\u001b[38;5;124m\"\u001b[39m\u001b[38;5;124muris\u001b[39m\u001b[38;5;124m\"\u001b[39m],\n\u001b[1;32m    350\u001b[0m )\n",
      "File \u001b[0;32m~/lang_project/envir/lib/python3.12/site-packages/chromadb/api/models/CollectionCommon.py:93\u001b[0m, in \u001b[0;36mvalidation_context.<locals>.decorator.<locals>.wrapper\u001b[0;34m(self, *args, **kwargs)\u001b[0m\n\u001b[1;32m     92\u001b[0m msg \u001b[38;5;241m=\u001b[39m \u001b[38;5;124mf\u001b[39m\u001b[38;5;124m\"\u001b[39m\u001b[38;5;132;01m{\u001b[39;00m\u001b[38;5;28mstr\u001b[39m(e)\u001b[38;5;132;01m}\u001b[39;00m\u001b[38;5;124m in \u001b[39m\u001b[38;5;132;01m{\u001b[39;00mname\u001b[38;5;132;01m}\u001b[39;00m\u001b[38;5;124m.\u001b[39m\u001b[38;5;124m\"\u001b[39m\n\u001b[0;32m---> 93\u001b[0m \u001b[38;5;28;01mraise\u001b[39;00m \u001b[38;5;28mtype\u001b[39m(e)(msg)\u001b[38;5;241m.\u001b[39mwith_traceback(e\u001b[38;5;241m.\u001b[39m__traceback__)\n",
      "File \u001b[0;32m~/lang_project/envir/lib/python3.12/site-packages/chromadb/api/models/CollectionCommon.py:90\u001b[0m, in \u001b[0;36mvalidation_context.<locals>.decorator.<locals>.wrapper\u001b[0;34m(self, *args, **kwargs)\u001b[0m\n\u001b[1;32m     89\u001b[0m \u001b[38;5;28;01mtry\u001b[39;00m:\n\u001b[0;32m---> 90\u001b[0m     \u001b[38;5;28;01mreturn\u001b[39;00m \u001b[43mfunc\u001b[49m\u001b[43m(\u001b[49m\u001b[38;5;28;43mself\u001b[39;49m\u001b[43m,\u001b[49m\u001b[43m \u001b[49m\u001b[38;5;241;43m*\u001b[39;49m\u001b[43margs\u001b[49m\u001b[43m,\u001b[49m\u001b[43m \u001b[49m\u001b[38;5;241;43m*\u001b[39;49m\u001b[38;5;241;43m*\u001b[39;49m\u001b[43mkwargs\u001b[49m\u001b[43m)\u001b[49m\n\u001b[1;32m     91\u001b[0m \u001b[38;5;28;01mexcept\u001b[39;00m \u001b[38;5;167;01mException\u001b[39;00m \u001b[38;5;28;01mas\u001b[39;00m e:\n",
      "File \u001b[0;32m~/lang_project/envir/lib/python3.12/site-packages/chromadb/api/models/CollectionCommon.py:399\u001b[0m, in \u001b[0;36mCollectionCommon._validate_and_prepare_upsert_request\u001b[0;34m(self, ids, embeddings, metadatas, documents, images, uris)\u001b[0m\n\u001b[1;32m    398\u001b[0m \u001b[38;5;66;03m# Validate\u001b[39;00m\n\u001b[0;32m--> 399\u001b[0m \u001b[43mvalidate_insert_record_set\u001b[49m\u001b[43m(\u001b[49m\u001b[43mrecord_set\u001b[49m\u001b[38;5;241;43m=\u001b[39;49m\u001b[43mupsert_records\u001b[49m\u001b[43m)\u001b[49m\n\u001b[1;32m    401\u001b[0m \u001b[38;5;66;03m# Prepare\u001b[39;00m\n",
      "File \u001b[0;32m~/lang_project/envir/lib/python3.12/site-packages/chromadb/api/types.py:230\u001b[0m, in \u001b[0;36mvalidate_insert_record_set\u001b[0;34m(record_set)\u001b[0m\n\u001b[1;32m    229\u001b[0m \u001b[38;5;28;01mif\u001b[39;00m record_set[\u001b[38;5;124m\"\u001b[39m\u001b[38;5;124mmetadatas\u001b[39m\u001b[38;5;124m\"\u001b[39m] \u001b[38;5;129;01mis\u001b[39;00m \u001b[38;5;129;01mnot\u001b[39;00m \u001b[38;5;28;01mNone\u001b[39;00m:\n\u001b[0;32m--> 230\u001b[0m     \u001b[43mvalidate_metadatas\u001b[49m\u001b[43m(\u001b[49m\u001b[43mrecord_set\u001b[49m\u001b[43m[\u001b[49m\u001b[38;5;124;43m\"\u001b[39;49m\u001b[38;5;124;43mmetadatas\u001b[39;49m\u001b[38;5;124;43m\"\u001b[39;49m\u001b[43m]\u001b[49m\u001b[43m)\u001b[49m\n",
      "File \u001b[0;32m~/lang_project/envir/lib/python3.12/site-packages/chromadb/api/types.py:592\u001b[0m, in \u001b[0;36mvalidate_metadatas\u001b[0;34m(metadatas)\u001b[0m\n\u001b[1;32m    591\u001b[0m \u001b[38;5;28;01mfor\u001b[39;00m metadata \u001b[38;5;129;01min\u001b[39;00m metadatas:\n\u001b[0;32m--> 592\u001b[0m     \u001b[43mvalidate_metadata\u001b[49m\u001b[43m(\u001b[49m\u001b[43mmetadata\u001b[49m\u001b[43m)\u001b[49m\n\u001b[1;32m    593\u001b[0m \u001b[38;5;28;01mreturn\u001b[39;00m metadatas\n",
      "File \u001b[0;32m~/lang_project/envir/lib/python3.12/site-packages/chromadb/api/types.py:558\u001b[0m, in \u001b[0;36mvalidate_metadata\u001b[0;34m(metadata)\u001b[0m\n\u001b[1;32m    557\u001b[0m     \u001b[38;5;28;01mif\u001b[39;00m \u001b[38;5;129;01mnot\u001b[39;00m \u001b[38;5;28misinstance\u001b[39m(value, \u001b[38;5;28mbool\u001b[39m) \u001b[38;5;129;01mand\u001b[39;00m \u001b[38;5;129;01mnot\u001b[39;00m \u001b[38;5;28misinstance\u001b[39m(value, (\u001b[38;5;28mstr\u001b[39m, \u001b[38;5;28mint\u001b[39m, \u001b[38;5;28mfloat\u001b[39m)):\n\u001b[0;32m--> 558\u001b[0m         \u001b[38;5;28;01mraise\u001b[39;00m \u001b[38;5;167;01mValueError\u001b[39;00m(\n\u001b[1;32m    559\u001b[0m             \u001b[38;5;124mf\u001b[39m\u001b[38;5;124m\"\u001b[39m\u001b[38;5;124mExpected metadata value to be a str, int, float or bool, got \u001b[39m\u001b[38;5;132;01m{\u001b[39;00mvalue\u001b[38;5;132;01m}\u001b[39;00m\u001b[38;5;124m which is a \u001b[39m\u001b[38;5;132;01m{\u001b[39;00m\u001b[38;5;28mtype\u001b[39m(value)\u001b[38;5;241m.\u001b[39m\u001b[38;5;18m__name__\u001b[39m\u001b[38;5;132;01m}\u001b[39;00m\u001b[38;5;124m\"\u001b[39m\n\u001b[1;32m    560\u001b[0m         )\n\u001b[1;32m    561\u001b[0m \u001b[38;5;28;01mreturn\u001b[39;00m metadata\n",
      "\u001b[0;31mValueError\u001b[0m: Expected metadata value to be a str, int, float or bool, got None which is a NoneType in upsert.",
      "\nDuring handling of the above exception, another exception occurred:\n",
      "\u001b[0;31mValueError\u001b[0m                                Traceback (most recent call last)",
      "Cell \u001b[0;32mIn[52], line 77\u001b[0m\n\u001b[1;32m     74\u001b[0m vault_manager \u001b[38;5;241m=\u001b[39m TestVaultManager(test_vault_path, test_vector_store)\n\u001b[1;32m     76\u001b[0m \u001b[38;5;66;03m# Process all documents\u001b[39;00m\n\u001b[0;32m---> 77\u001b[0m file_to_id_mapping \u001b[38;5;241m=\u001b[39m \u001b[43mvault_manager\u001b[49m\u001b[38;5;241;43m.\u001b[39;49m\u001b[43mprocess_vault\u001b[49m\u001b[43m(\u001b[49m\u001b[43mdocs\u001b[49m\u001b[43m)\u001b[49m\n",
      "Cell \u001b[0;32mIn[52], line 57\u001b[0m, in \u001b[0;36mTestVaultManager.process_vault\u001b[0;34m(self, docs)\u001b[0m\n\u001b[1;32m     55\u001b[0m \u001b[38;5;66;03m# Add all documents to vector store at once\u001b[39;00m\n\u001b[1;32m     56\u001b[0m \u001b[38;5;28;01mif\u001b[39;00m processed_documents:\n\u001b[0;32m---> 57\u001b[0m     \u001b[38;5;28;43mself\u001b[39;49m\u001b[38;5;241;43m.\u001b[39;49m\u001b[43mvector_store\u001b[49m\u001b[38;5;241;43m.\u001b[39;49m\u001b[43madd_documents\u001b[49m\u001b[43m(\u001b[49m\n\u001b[1;32m     58\u001b[0m \u001b[43m        \u001b[49m\u001b[43mdocuments\u001b[49m\u001b[38;5;241;43m=\u001b[39;49m\u001b[43mprocessed_documents\u001b[49m\u001b[43m,\u001b[49m\n\u001b[1;32m     59\u001b[0m \u001b[43m        \u001b[49m\u001b[43mids\u001b[49m\u001b[38;5;241;43m=\u001b[39;49m\u001b[43mdocument_ids\u001b[49m\u001b[43m[\u001b[49m\u001b[43m:\u001b[49m\u001b[38;5;28;43mlen\u001b[39;49m\u001b[43m(\u001b[49m\u001b[43mprocessed_documents\u001b[49m\u001b[43m)\u001b[49m\u001b[43m]\u001b[49m\n\u001b[1;32m     60\u001b[0m \u001b[43m    \u001b[49m\u001b[43m)\u001b[49m\n\u001b[1;32m     62\u001b[0m \u001b[38;5;28;01mreturn\u001b[39;00m \u001b[38;5;28mself\u001b[39m\u001b[38;5;241m.\u001b[39mfile_to_ids\n",
      "File \u001b[0;32m~/lang_project/envir/lib/python3.12/site-packages/langchain_core/vectorstores/base.py:287\u001b[0m, in \u001b[0;36mVectorStore.add_documents\u001b[0;34m(self, documents, **kwargs)\u001b[0m\n\u001b[1;32m    285\u001b[0m     texts \u001b[38;5;241m=\u001b[39m [doc\u001b[38;5;241m.\u001b[39mpage_content \u001b[38;5;28;01mfor\u001b[39;00m doc \u001b[38;5;129;01min\u001b[39;00m documents]\n\u001b[1;32m    286\u001b[0m     metadatas \u001b[38;5;241m=\u001b[39m [doc\u001b[38;5;241m.\u001b[39mmetadata \u001b[38;5;28;01mfor\u001b[39;00m doc \u001b[38;5;129;01min\u001b[39;00m documents]\n\u001b[0;32m--> 287\u001b[0m     \u001b[38;5;28;01mreturn\u001b[39;00m \u001b[38;5;28;43mself\u001b[39;49m\u001b[38;5;241;43m.\u001b[39;49m\u001b[43madd_texts\u001b[49m\u001b[43m(\u001b[49m\u001b[43mtexts\u001b[49m\u001b[43m,\u001b[49m\u001b[43m \u001b[49m\u001b[43mmetadatas\u001b[49m\u001b[43m,\u001b[49m\u001b[43m \u001b[49m\u001b[38;5;241;43m*\u001b[39;49m\u001b[38;5;241;43m*\u001b[39;49m\u001b[43mkwargs\u001b[49m\u001b[43m)\u001b[49m\n\u001b[1;32m    288\u001b[0m msg \u001b[38;5;241m=\u001b[39m (\n\u001b[1;32m    289\u001b[0m     \u001b[38;5;124mf\u001b[39m\u001b[38;5;124m\"\u001b[39m\u001b[38;5;124m`add_documents` and `add_texts` has not been implemented \u001b[39m\u001b[38;5;124m\"\u001b[39m\n\u001b[1;32m    290\u001b[0m     \u001b[38;5;124mf\u001b[39m\u001b[38;5;124m\"\u001b[39m\u001b[38;5;124mfor \u001b[39m\u001b[38;5;132;01m{\u001b[39;00m\u001b[38;5;28mself\u001b[39m\u001b[38;5;241m.\u001b[39m\u001b[38;5;18m__class__\u001b[39m\u001b[38;5;241m.\u001b[39m\u001b[38;5;18m__name__\u001b[39m\u001b[38;5;132;01m}\u001b[39;00m\u001b[38;5;124m \u001b[39m\u001b[38;5;124m\"\u001b[39m\n\u001b[1;32m    291\u001b[0m )\n\u001b[1;32m    292\u001b[0m \u001b[38;5;28;01mraise\u001b[39;00m \u001b[38;5;167;01mNotImplementedError\u001b[39;00m(msg)\n",
      "File \u001b[0;32m~/lang_project/envir/lib/python3.12/site-packages/langchain_chroma/vectorstores.py:542\u001b[0m, in \u001b[0;36mChroma.add_texts\u001b[0;34m(self, texts, metadatas, ids, **kwargs)\u001b[0m\n\u001b[1;32m    537\u001b[0m \u001b[38;5;28;01mif\u001b[39;00m \u001b[38;5;124m\"\u001b[39m\u001b[38;5;124mExpected metadata value to be\u001b[39m\u001b[38;5;124m\"\u001b[39m \u001b[38;5;129;01min\u001b[39;00m \u001b[38;5;28mstr\u001b[39m(e):\n\u001b[1;32m    538\u001b[0m     msg \u001b[38;5;241m=\u001b[39m (\n\u001b[1;32m    539\u001b[0m         \u001b[38;5;124m\"\u001b[39m\u001b[38;5;124mTry filtering complex metadata from the document using \u001b[39m\u001b[38;5;124m\"\u001b[39m\n\u001b[1;32m    540\u001b[0m         \u001b[38;5;124m\"\u001b[39m\u001b[38;5;124mlangchain_community.vectorstores.utils.filter_complex_metadata.\u001b[39m\u001b[38;5;124m\"\u001b[39m\n\u001b[1;32m    541\u001b[0m     )\n\u001b[0;32m--> 542\u001b[0m     \u001b[38;5;28;01mraise\u001b[39;00m \u001b[38;5;167;01mValueError\u001b[39;00m(e\u001b[38;5;241m.\u001b[39margs[\u001b[38;5;241m0\u001b[39m] \u001b[38;5;241m+\u001b[39m \u001b[38;5;124m\"\u001b[39m\u001b[38;5;130;01m\\n\u001b[39;00m\u001b[38;5;130;01m\\n\u001b[39;00m\u001b[38;5;124m\"\u001b[39m \u001b[38;5;241m+\u001b[39m msg)\n\u001b[1;32m    543\u001b[0m \u001b[38;5;28;01melse\u001b[39;00m:\n\u001b[1;32m    544\u001b[0m     \u001b[38;5;28;01mraise\u001b[39;00m e\n",
      "\u001b[0;31mValueError\u001b[0m: Expected metadata value to be a str, int, float or bool, got None which is a NoneType in upsert.\n\nTry filtering complex metadata from the document using langchain_community.vectorstores.utils.filter_complex_metadata."
     ]
    }
   ],
   "source": [
    "from datetime import datetime\n",
    "class TestVaultManager:\n",
    "    def __init__(self, vault_path: str, vector_store: Chroma):\n",
    "        self.vault_path = vault_path\n",
    "        self.vector_store = vector_store\n",
    "        self.file_to_ids = {}  # Keep track of which IDs belong to which files\n",
    "        \n",
    "    def process_vault(self, docs):\n",
    "        \"\"\"Process all documents in the vault\"\"\"\n",
    "        # Generate UUIDs for all documents upfront\n",
    "        document_ids = [str(uuid4()) for _ in range(len(docs))]\n",
    "        processed_documents = []\n",
    "        \n",
    "        for doc, doc_id in zip(docs, document_ids):\n",
    "            try:\n",
    "                # Parse the note\n",
    "                parsed = parse_obsidian_note(doc)\n",
    "                \n",
    "                # Get concepts from LLM\n",
    "                concepts = classify_note(llm, parsed['title'], parsed['content'])\n",
    "                \n",
    "                # Transform note content\n",
    "                new_note = transform_note(parsed, concepts)\n",
    "                \n",
    "                # Create metadata for vector store\n",
    "                metadata = {\n",
    "                    \"title\": parsed['title'],\n",
    "                    \"created\": parsed['date'].isoformat() if parsed['date'] else None,\n",
    "                    \"status\": parsed['status'],\n",
    "                    \"concepts\": concepts,\n",
    "                    \"tags\": parsed['tags'],\n",
    "                    \"source_path\": parsed['source_path']\n",
    "                }\n",
    "                \n",
    "                # Create safe filename\n",
    "                safe_title = \"\".join(x for x in parsed['title'] if x.isalnum() or x in \" -_\").strip()\n",
    "                file_path = os.path.join(self.vault_path, f\"{safe_title}.md\")\n",
    "                \n",
    "                # Save to Obsidian\n",
    "                with open(file_path, \"w\", encoding=\"utf-8\") as f:\n",
    "                    f.write(new_note)\n",
    "                \n",
    "                # Create document for vector store\n",
    "                processed_documents.append(Document(\n",
    "                    page_content=parsed['content'],\n",
    "                    metadata=metadata\n",
    "                ))\n",
    "                \n",
    "                # Track file to UUID mapping\n",
    "                self.file_to_ids[file_path] = doc_id\n",
    "                \n",
    "            except Exception as e:\n",
    "                print(f\"Error processing document: {e}\")\n",
    "                \n",
    "        # Add all documents to vector store at once\n",
    "        if processed_documents:\n",
    "            self.vector_store.add_documents(\n",
    "                documents=processed_documents,\n",
    "                ids=document_ids[:len(processed_documents)]\n",
    "            )\n",
    "        \n",
    "        return self.file_to_ids\n",
    "\n",
    "# Initialize and use\n",
    "test_vault_path = \"/mnt/c/Users/luisl/Documents/AI_Generated_Notes\"\n",
    "os.makedirs(test_vault_path, exist_ok=True)\n",
    "\n",
    "test_vector_store = Chroma(\n",
    "    collection_name=\"test_vault\",\n",
    "    embedding_function=embeddings,\n",
    "    persist_directory=\"./test_chroma_db\"\n",
    ")\n",
    "\n",
    "vault_manager = TestVaultManager(test_vault_path, test_vector_store)\n",
    "\n",
    "# Process all documents\n",
    "file_to_id_mapping = vault_manager.process_vault(docs)"
   ]
  },
  {
   "cell_type": "markdown",
   "metadata": {},
   "source": [
    "# Query analyzer"
   ]
  },
  {
   "cell_type": "code",
   "execution_count": null,
   "metadata": {},
   "outputs": [],
   "source": []
  },
  {
   "cell_type": "code",
   "execution_count": 13,
   "metadata": {},
   "outputs": [],
   "source": [
    "import dotenv\n",
    "from langchain_openai import OpenAIEmbeddings\n",
    "from langchain_openai import ChatOpenAI\n",
    "\n",
    "dotenv.load_dotenv()\n",
    "llm = ChatOpenAI(model=\"gpt-4o-mini\")\n",
    "embeddings = OpenAIEmbeddings(model=\"text-embedding-3-large\")"
   ]
  },
  {
   "cell_type": "code",
   "execution_count": 2,
   "metadata": {},
   "outputs": [],
   "source": [
    "from typing import Annotated\n",
    "\n",
    "from typing_extensions import TypedDict\n",
    "\n",
    "from langgraph.graph import StateGraph, START, END\n",
    "from langgraph.graph.message import add_messages\n",
    "\n",
    "\n",
    "class State(TypedDict):\n",
    "    # Messages have the type \"list\". The `add_messages` function\n",
    "    # in the annotation defines how this state key should be updated\n",
    "    # (in this case, it appends messages to the list, rather than overwriting them)\n",
    "    messages: Annotated[list, add_messages]\n",
    "\n",
    "\n",
    "graph_builder = StateGraph(State)"
   ]
  },
  {
   "cell_type": "code",
   "execution_count": 4,
   "metadata": {},
   "outputs": [
    {
     "data": {
      "text/plain": [
       "<langgraph.graph.state.StateGraph at 0x119c96350>"
      ]
     },
     "execution_count": 4,
     "metadata": {},
     "output_type": "execute_result"
    }
   ],
   "source": [
    "def chatbot(state: State):\n",
    "    return {\"messages\": [llm.invoke(state[\"messages\"])]}\n",
    "\n",
    "\n",
    "# The first argument is the unique node name\n",
    "# The second argument is the function or object that will be called whenever\n",
    "# the node is used.\n",
    "graph_builder.add_node(\"chatbot\", chatbot)"
   ]
  },
  {
   "cell_type": "code",
   "execution_count": 5,
   "metadata": {},
   "outputs": [],
   "source": [
    "graph_builder.add_edge(START, \"chatbot\")\n",
    "graph_builder.add_edge(\"chatbot\", END)\n",
    "graph = graph_builder.compile()"
   ]
  },
  {
   "cell_type": "code",
   "execution_count": 6,
   "metadata": {},
   "outputs": [
    {
     "data": {
      "image/png": "[encoded data removed]",
      "text/plain": [
       "<IPython.core.display.Image object>"
      ]
     },
     "metadata": {},
     "output_type": "display_data"
    }
   ],
   "source": [
    "from IPython.display import Image, display\n",
    "\n",
    "try:\n",
    "    display(Image(graph.get_graph().draw_mermaid_png()))\n",
    "except Exception:\n",
    "    # This requires some extra dependencies and is optional\n",
    "    pass"
   ]
  },
  {
   "cell_type": "code",
   "execution_count": 10,
   "metadata": {},
   "outputs": [
    {
     "name": "stdout",
     "output_type": "stream",
     "text": [
      "Assistant: Hello! How can I assist you today?\n",
      "Assistant: That's great! What are you playing around with? Whether it's a topic, a project, or something else entirely, feel free to share!\n",
      "Assistant: Hello! How can I assist you today?\n",
      "Goodbye!\n"
     ]
    }
   ],
   "source": [
    "def stream_graph_updates(user_input: str):\n",
    "    for event in graph.stream({\"messages\": [{\"role\": \"user\", \"content\": user_input}]}):\n",
    "        for value in event.values():\n",
    "            print(\"Assistant:\", value[\"messages\"][-1].content)\n",
    "\n",
    "\n",
    "while True:\n",
    "    try:\n",
    "        user_input = input(\"User: \")\n",
    "        if user_input.lower() in [\"quit\", \"exit\", \"q\"]:\n",
    "            print(\"Goodbye!\")\n",
    "            break\n",
    "\n",
    "        stream_graph_updates(user_input)\n",
    "    except:\n",
    "        # fallback if input() is not available\n",
    "        user_input = \"What do you know about LangGraph?\"\n",
    "        print(\"User: \" + user_input)\n",
    "        stream_graph_updates(user_input)\n",
    "        break"
   ]
  },
  {
   "cell_type": "code",
   "execution_count": 11,
   "metadata": {},
   "outputs": [],
   "source": [
    "%%capture --no-stderr\n",
    "%pip install -U tavily-python langchain_community"
   ]
  },
  {
   "cell_type": "code",
   "execution_count": 14,
   "metadata": {},
   "outputs": [
    {
     "data": {
      "text/plain": [
       "[{'title': 'LangGraph - LangChain Blog',\n",
       "  'url': 'https://blog.langchain.dev/langgraph/',\n",
       "  'content': 'TL;DR: LangGraph is module built on top of LangChain to better enable creation of cyclical graphs, often needed for agent runtimes. This state is updated by nodes in the graph, which return operations to attributes of this state (in the form of a key-value store). After adding nodes, you can then add edges to create the graph. An example of this may be in the basic agent runtime, where we always want the model to be called after we call a tool. graph.add_edge(\"tools\", \"model\") The state of this graph by default contains concepts that should be familiar to you if you\\'ve used LangChain agents: input, chat_history, intermediate_steps (and agent_outcome to represent the most recent agent outcome)',\n",
       "  'score': 0.70944256},\n",
       " {'title': 'LangGraph Glossary - GitHub Pages',\n",
       "  'url': 'https://langchain-ai.github.io/langgraph/concepts/low_level/',\n",
       "  'content': '[](https://langchain-ai.github.io/langgraph/concepts/low_level/#__codelineno-1-19)def node_2(state: OverallState) -> PrivateState: [](https://langchain-ai.github.io/langgraph/concepts/low_level/#__codelineno-1-25)    return {\"graph_output\": state[\"bar\"] + \" Lance\"} [](https://langchain-ai.github.io/langgraph/concepts/low_level/#__codelineno-1-31)builder.add_edge(START, \"node_1\") [](https://langchain-ai.github.io/langgraph/concepts/low_level/#__codelineno-7-13)def my_other_node(state: dict): [](https://langchain-ai.github.io/langgraph/concepts/low_level/#__codelineno-9-3)graph.add_edge(START, \"node_a\") [](https://langchain-ai.github.io/langgraph/concepts/low_level/#__codelineno-10-3)graph.add_edge(\"node_a\", END) [](https://langchain-ai.github.io/langgraph/concepts/low_level/#__codelineno-11-1)graph.add_edge(\"node_a\", \"node_b\") [](https://langchain-ai.github.io/langgraph/concepts/low_level/#__codelineno-12-1)graph.add_conditional_edges(\"node_a\", routing_function) [](https://langchain-ai.github.io/langgraph/concepts/low_level/#__codelineno-13-1)graph.add_conditional_edges(\"node_a\", routing_function, {True: \"node_b\", False: \"node_c\"}) [](https://langchain-ai.github.io/langgraph/concepts/low_level/#__codelineno-14-3)graph.add_edge(START, \"node_a\") [](https://langchain-ai.github.io/langgraph/concepts/low_level/#__codelineno-15-3)graph.add_conditional_edges(START, routing_function) [](https://langchain-ai.github.io/langgraph/concepts/low_level/#__codelineno-16-1)graph.add_conditional_edges(START, routing_function, {True: \"node_b\", False: \"node_c\"}) [](https://langchain-ai.github.io/langgraph/concepts/low_level/#__codelineno-17-4)graph.add_conditional_edges(\"node_a\", continue_to_jokes) [](https://langchain-ai.github.io/langgraph/concepts/low_level/#__codelineno-20-4)        goto=\"other_subgraph\",  # where `other_subgraph` is a node in the parent graph [](https://langchain-ai.github.io/langgraph/concepts/low_level/#__codelineno-22-4)graph = StateGraph(State, config_schema=ConfigSchema) [](https://langchain-ai.github.io/langgraph/concepts/low_level/#__codelineno-24-1)def node_a(state, config): [](https://langchain-ai.github.io/langgraph/concepts/low_level/#__codelineno-26-3)def human_approval_node(state: State): [](https://langchain-ai.github.io/langgraph/concepts/low_level/#__codelineno-29-8)    foo: str  # note that this key is shared with the parent graph state [](https://langchain-ai.github.io/langgraph/concepts/low_level/#__codelineno-29-12)def subgraph_node(state: SubgraphState): [](https://langchain-ai.github.io/langgraph/concepts/low_level/#__codelineno-29-13)    # note that this subgraph node can communicate with the parent graph via the shared \"foo\" key [](https://langchain-ai.github.io/langgraph/concepts/low_level/#__codelineno-30-5)    # note that none of these keys are shared with the parent graph state [](https://langchain-ai.github.io/langgraph/concepts/low_level/#__codelineno-30-10)def subgraph_node(state: SubgraphState):',\n",
       "  'score': 0.6063825}]"
      ]
     },
     "execution_count": 14,
     "metadata": {},
     "output_type": "execute_result"
    }
   ],
   "source": [
    "from langchain_community.tools.tavily_search import TavilySearchResults\n",
    "\n",
    "tool = TavilySearchResults(max_results=2)\n",
    "tools = [tool]\n",
    "tool.invoke(\"What's a 'node' in LangGraph?\")"
   ]
  },
  {
   "cell_type": "code",
   "execution_count": 15,
   "metadata": {},
   "outputs": [
    {
     "data": {
      "text/plain": [
       "<langgraph.graph.state.StateGraph at 0x11a8bea50>"
      ]
     },
     "execution_count": 15,
     "metadata": {},
     "output_type": "execute_result"
    }
   ],
   "source": [
    "from typing import Annotated\n",
    "\n",
    "from typing_extensions import TypedDict\n",
    "\n",
    "from langgraph.graph import StateGraph, START, END\n",
    "from langgraph.graph.message import add_messages\n",
    "\n",
    "\n",
    "class State(TypedDict):\n",
    "    messages: Annotated[list, add_messages]\n",
    "\n",
    "\n",
    "graph_builder = StateGraph(State)\n",
    "\n",
    "llm_with_tools = llm.bind_tools(tools)\n",
    "\n",
    "\n",
    "def chatbot(state: State):\n",
    "    return {\"messages\": [llm_with_tools.invoke(state[\"messages\"])]}\n",
    "\n",
    "\n",
    "graph_builder.add_node(\"chatbot\", chatbot)"
   ]
  },
  {
   "cell_type": "code",
   "execution_count": 16,
   "metadata": {},
   "outputs": [
    {
     "data": {
      "text/plain": [
       "<langgraph.graph.state.StateGraph at 0x11a8bea50>"
      ]
     },
     "execution_count": 16,
     "metadata": {},
     "output_type": "execute_result"
    }
   ],
   "source": [
    "import json\n",
    "\n",
    "from langchain_core.messages import ToolMessage\n",
    "\n",
    "\n",
    "class BasicToolNode:\n",
    "    \"\"\"A node that runs the tools requested in the last AIMessage.\"\"\"\n",
    "\n",
    "    def __init__(self, tools: list) -> None:\n",
    "        self.tools_by_name = {tool.name: tool for tool in tools}\n",
    "\n",
    "    def __call__(self, inputs: dict):\n",
    "        if messages := inputs.get(\"messages\", []):\n",
    "            message = messages[-1]\n",
    "        else:\n",
    "            raise ValueError(\"No message found in input\")\n",
    "        outputs = []\n",
    "        for tool_call in message.tool_calls:\n",
    "            tool_result = self.tools_by_name[tool_call[\"name\"]].invoke(\n",
    "                tool_call[\"args\"]\n",
    "            )\n",
    "            outputs.append(\n",
    "                ToolMessage(\n",
    "                    content=json.dumps(tool_result),\n",
    "                    name=tool_call[\"name\"],\n",
    "                    tool_call_id=tool_call[\"id\"],\n",
    "                )\n",
    "            )\n",
    "        return {\"messages\": outputs}\n",
    "\n",
    "\n",
    "tool_node = BasicToolNode(tools=[tool])\n",
    "graph_builder.add_node(\"tools\", tool_node)"
   ]
  },
  {
   "cell_type": "code",
   "execution_count": 17,
   "metadata": {},
   "outputs": [],
   "source": [
    "def route_tools(\n",
    "    state: State,\n",
    "):\n",
    "    \"\"\"\n",
    "    Use in the conditional_edge to route to the ToolNode if the last message\n",
    "    has tool calls. Otherwise, route to the end.\n",
    "    \"\"\"\n",
    "    if isinstance(state, list):\n",
    "        ai_message = state[-1]\n",
    "    elif messages := state.get(\"messages\", []):\n",
    "        ai_message = messages[-1]\n",
    "    else:\n",
    "        raise ValueError(f\"No messages found in input state to tool_edge: {state}\")\n",
    "    if hasattr(ai_message, \"tool_calls\") and len(ai_message.tool_calls) > 0:\n",
    "        return \"tools\"\n",
    "    return END\n",
    "\n",
    "\n",
    "# The `tools_condition` function returns \"tools\" if the chatbot asks to use a tool, and \"END\" if\n",
    "# it is fine directly responding. This conditional routing defines the main agent loop.\n",
    "graph_builder.add_conditional_edges(\n",
    "    \"chatbot\",\n",
    "    route_tools,\n",
    "    # The following dictionary lets you tell the graph to interpret the condition's outputs as a specific node\n",
    "    # It defaults to the identity function, but if you\n",
    "    # want to use a node named something else apart from \"tools\",\n",
    "    # You can update the value of the dictionary to something else\n",
    "    # e.g., \"tools\": \"my_tools\"\n",
    "    {\"tools\": \"tools\", END: END},\n",
    ")\n",
    "# Any time a tool is called, we return to the chatbot to decide the next step\n",
    "graph_builder.add_edge(\"tools\", \"chatbot\")\n",
    "graph_builder.add_edge(START, \"chatbot\")\n",
    "graph = graph_builder.compile()"
   ]
  },
  {
   "cell_type": "code",
   "execution_count": 18,
   "metadata": {},
   "outputs": [
    {
     "data": {
      "image/png": "[encoded data removed]",
      "text/plain": [
       "<IPython.core.display.Image object>"
      ]
     },
     "metadata": {},
     "output_type": "display_data"
    }
   ],
   "source": [
    "from IPython.display import Image, display\n",
    "\n",
    "try:\n",
    "    display(Image(graph.get_graph().draw_mermaid_png()))\n",
    "except Exception:\n",
    "    # This requires some extra dependencies and is optional\n",
    "    pass"
   ]
  },
  {
   "cell_type": "code",
   "execution_count": 19,
   "metadata": {},
   "outputs": [
    {
     "name": "stdout",
     "output_type": "stream",
     "text": [
      "Assistant: \n",
      "Assistant: [{\"title\": \"What is LangChain? - AWS\", \"url\": \"https://aws.amazon.com/what-is/langchain/\", \"content\": \"LangChain is an open source framework for building applications based on large language models (LLMs). For example, developers can use LangChain components to build new prompt chains or customize existing templates. LangChain simplifies artificial intelligence (AI) development by abstracting the complexity of data source integrations and prompt refining. LangChain provides AI developers with tools to connect language models with external data sources. Developers can create a prompt template for chatbot applications, few-shot learning, or deliver specific instructions to the language models. Developers use tools and libraries that LangChain provides to compose and customize existing chains for complex applications. You can connect Amazon Kendra to LangChain, which uses data from proprietary databases to refine language model outputs. What Is AWS? Developers on AWS\", \"score\": 0.91137725}, {\"title\": \"langchain-ai/langchain: Build context-aware reasoning applications\", \"url\": \"https://github.com/langchain-ai/langchain\", \"content\": \"GitHub - langchain-ai/langchain: \\ud83e\\udd9c\\ud83d\\udd17 Build context-aware reasoning applications Search code, repositories, users, issues, pull requests... LangChain is a framework for developing applications powered by large language models (LLMs). Open-source libraries: Build your applications using LangChain's open-source components and third-party integrations. langchain: Chains, agents, and retrieval strategies that make up an application's cognitive architecture. LangSmith: A developer platform that lets you debug, test, evaluate, and monitor chains built on any LLM framework and seamlessly integrates with LangChain. Components are modular and easy-to-use, whether you are using the rest of the LangChain framework or not. LangGraph makes it easy to use LangChain components to build both custom and built-in LLM agents. \\ud83e\\udd9c\\ud83d\\udd78\\ufe0f LangGraph: Create stateful, multi-actor applications with LLMs. Integrates smoothly with LangChain, but can be used without it.\", \"score\": 0.885404}]\n",
      "Assistant: Here are some key points about LangChain from recent search results:\n",
      "\n",
      "1. **What is LangChain? (AWS)**:\n",
      "   - **Overview**: LangChain is an open-source framework designed for building applications that utilize large language models (LLMs). \n",
      "   - **Functionality**: It simplifies AI development by abstracting the complexities involved in data source integrations and prompt refinement. \n",
      "   - **Applications**: Developers can create custom prompt templates for chatbots, few-shot learning, and provide specific instructions to language models. \n",
      "   - **Integration**: It allows for connection with external data sources, such as Amazon Kendra, to enhance language model outputs.\n",
      "   - **Link**: [Read more on AWS](https://aws.amazon.com/what-is/langchain/)\n",
      "\n",
      "2. **LangChain GitHub Repository**:\n",
      "   - **Description**: The LangChain GitHub repository provides open-source libraries and tools for building applications powered by LLMs.\n",
      "   - **Key Components**: It includes components like chains, agents, and retrieval strategies which form the cognitive architecture of applications. \n",
      "   - **Developer Tools**: Offers LangSmith for debugging and monitoring, and LangGraph for creating stateful, multi-actor applications.\n",
      "   - **Link**: [LangChain GitHub](https://github.com/langchain-ai/langchain)\n",
      "\n",
      "LangChain is significantly focused on enhancing the way developers can interact with and utilize large language models for diverse applications.\n",
      "Goodbye!\n"
     ]
    }
   ],
   "source": [
    "while True:\n",
    "    try:\n",
    "        user_input = input(\"User: \")\n",
    "        if user_input.lower() in [\"quit\", \"exit\", \"q\"]:\n",
    "            print(\"Goodbye!\")\n",
    "            break\n",
    "\n",
    "        stream_graph_updates(user_input)\n",
    "    except:\n",
    "        # fallback if input() is not available\n",
    "        user_input = \"What do you know about LangGraph?\"\n",
    "        print(\"User: \" + user_input)\n",
    "        stream_graph_updates(user_input)\n",
    "        break"
   ]
  },
  {
   "cell_type": "code",
   "execution_count": 20,
   "metadata": {},
   "outputs": [],
   "source": [
    "from langgraph.checkpoint.memory import MemorySaver\n",
    "\n",
    "memory = MemorySaver()"
   ]
  },
  {
   "cell_type": "code",
   "execution_count": 60,
   "metadata": {},
   "outputs": [],
   "source": [
    "from typing import Annotated\n",
    "\n",
    "from typing_extensions import TypedDict\n",
    "\n",
    "from langgraph.graph.message import add_messages\n",
    "\n",
    "\n",
    "class State(TypedDict):\n",
    "    messages: Annotated[list, add_messages]\n",
    "    name: str\n",
    "    birthday: str"
   ]
  },
  {
   "cell_type": "code",
   "execution_count": 61,
   "metadata": {},
   "outputs": [
    {
     "data": {
      "text/plain": [
       "<langgraph.graph.state.StateGraph at 0x11cf7c610>"
      ]
     },
     "execution_count": 61,
     "metadata": {},
     "output_type": "execute_result"
    }
   ],
   "source": [
    "from typing import Annotated\n",
    "\n",
    "from langchain_community.tools.tavily_search import TavilySearchResults\n",
    "from langchain_core.messages import BaseMessage\n",
    "from typing_extensions import TypedDict\n",
    "\n",
    "from langgraph.graph import StateGraph, START, END\n",
    "from langgraph.graph.message import add_messages\n",
    "from langgraph.prebuilt import ToolNode, tools_condition\n",
    "\n",
    "\n",
    "class State(TypedDict):\n",
    "    messages: Annotated[list, add_messages]\n",
    "\n",
    "\n",
    "graph_builder = StateGraph(State)\n",
    "\n",
    "\n",
    "tool = TavilySearchResults(max_results=2)\n",
    "tools = [tool]\n",
    "llm_with_tools = llm.bind_tools(tools)\n",
    "\n",
    "\n",
    "def chatbot(state: State):\n",
    "    return {\"messages\": [llm_with_tools.invoke(state[\"messages\"])]}\n",
    "\n",
    "\n",
    "graph_builder.add_node(\"chatbot\", chatbot)\n",
    "\n",
    "tool_node = ToolNode(tools=[tool])\n",
    "graph_builder.add_node(\"tools\", tool_node)\n",
    "\n",
    "graph_builder.add_conditional_edges(\n",
    "    \"chatbot\",\n",
    "    tools_condition,\n",
    ")\n",
    "# Any time a tool is called, we return to the chatbot to decide the next step\n",
    "graph_builder.add_edge(\"tools\", \"chatbot\")\n",
    "graph_builder.add_edge(START, \"chatbot\")"
   ]
  },
  {
   "cell_type": "code",
   "execution_count": 22,
   "metadata": {},
   "outputs": [],
   "source": [
    "graph = graph_builder.compile(checkpointer=memory)"
   ]
  },
  {
   "cell_type": "code",
   "execution_count": 23,
   "metadata": {},
   "outputs": [
    {
     "data": {
      "image/png": "[encoded data removed]",
      "text/plain": [
       "<IPython.core.display.Image object>"
      ]
     },
     "metadata": {},
     "output_type": "display_data"
    }
   ],
   "source": [
    "from IPython.display import Image, display\n",
    "\n",
    "try:\n",
    "    display(Image(graph.get_graph().draw_mermaid_png()))\n",
    "except Exception:\n",
    "    # This requires some extra dependencies and is optional\n",
    "    pass"
   ]
  },
  {
   "cell_type": "code",
   "execution_count": 24,
   "metadata": {},
   "outputs": [],
   "source": [
    "config = {\"configurable\": {\"thread_id\": \"1\"}}"
   ]
  },
  {
   "cell_type": "code",
   "execution_count": 25,
   "metadata": {},
   "outputs": [
    {
     "name": "stdout",
     "output_type": "stream",
     "text": [
      "================================\u001b[1m Human Message \u001b[0m=================================\n",
      "\n",
      "Hi there! My name is Will.\n",
      "==================================\u001b[1m Ai Message \u001b[0m==================================\n",
      "\n",
      "Hello Will! How can I assist you today?\n"
     ]
    }
   ],
   "source": [
    "user_input = \"Hi there! My name is Will.\"\n",
    "\n",
    "# The config is the **second positional argument** to stream() or invoke()!\n",
    "events = graph.stream(\n",
    "    {\"messages\": [{\"role\": \"user\", \"content\": user_input}]},\n",
    "    config,\n",
    "    stream_mode=\"values\",\n",
    ")\n",
    "for event in events:\n",
    "    event[\"messages\"][-1].pretty_print()"
   ]
  },
  {
   "cell_type": "code",
   "execution_count": 26,
   "metadata": {},
   "outputs": [
    {
     "name": "stdout",
     "output_type": "stream",
     "text": [
      "================================\u001b[1m Human Message \u001b[0m=================================\n",
      "\n",
      "Remember my name?\n",
      "==================================\u001b[1m Ai Message \u001b[0m==================================\n",
      "\n",
      "Yes, I remember your name, Will! It’s nice to meet you. How can I help you today?\n"
     ]
    }
   ],
   "source": [
    "user_input = \"Remember my name?\"\n",
    "\n",
    "# The config is the **second positional argument** to stream() or invoke()!\n",
    "events = graph.stream(\n",
    "    {\"messages\": [{\"role\": \"user\", \"content\": user_input}]},\n",
    "    config,\n",
    "    stream_mode=\"values\",\n",
    ")\n",
    "for event in events:\n",
    "    event[\"messages\"][-1].pretty_print()"
   ]
  },
  {
   "cell_type": "code",
   "execution_count": 27,
   "metadata": {},
   "outputs": [
    {
     "name": "stdout",
     "output_type": "stream",
     "text": [
      "================================\u001b[1m Human Message \u001b[0m=================================\n",
      "\n",
      "Remember my name?\n",
      "==================================\u001b[1m Ai Message \u001b[0m==================================\n",
      "\n",
      "I don't have the ability to remember past interactions or personal details, including your name. However, I'm here to help you with any questions or tasks you have! What can I assist you with today?\n"
     ]
    }
   ],
   "source": [
    "# The only difference is we change the `thread_id` here to \"2\" instead of \"1\"\n",
    "events = graph.stream(\n",
    "    {\"messages\": [{\"role\": \"user\", \"content\": user_input}]},\n",
    "    {\"configurable\": {\"thread_id\": \"2\"}},\n",
    "    stream_mode=\"values\",\n",
    ")\n",
    "for event in events:\n",
    "    event[\"messages\"][-1].pretty_print()"
   ]
  },
  {
   "cell_type": "code",
   "execution_count": 28,
   "metadata": {},
   "outputs": [
    {
     "data": {
      "text/plain": [
       "StateSnapshot(values={'messages': [HumanMessage(content='Hi there! My name is Will.', additional_kwargs={}, response_metadata={}, id='c1a107e8-79fb-4abc-a9e0-8dee24bf914f'), AIMessage(content='Hello Will! How can I assist you today?', additional_kwargs={'refusal': None}, response_metadata={'token_usage': {'completion_tokens': 12, 'prompt_tokens': 87, 'total_tokens': 99, 'completion_tokens_details': {'accepted_prediction_tokens': 0, 'audio_tokens': 0, 'reasoning_tokens': 0, 'rejected_prediction_tokens': 0}, 'prompt_tokens_details': {'audio_tokens': 0, 'cached_tokens': 0}}, 'model_name': 'gpt-4o-mini-2024-07-18', 'system_fingerprint': 'fp_06737a9306', 'finish_reason': 'stop', 'logprobs': None}, id='run-9688e8c8-38b5-4ee8-b67e-f544adc48f29-0', usage_metadata={'input_tokens': 87, 'output_tokens': 12, 'total_tokens': 99, 'input_token_details': {'audio': 0, 'cache_read': 0}, 'output_token_details': {'audio': 0, 'reasoning': 0}}), HumanMessage(content='Remember my name?', additional_kwargs={}, response_metadata={}, id='5fe95e09-7b24-45bd-9590-f91f82c19930'), AIMessage(content='Yes, I remember your name, Will! It’s nice to meet you. How can I help you today?', additional_kwargs={'refusal': None}, response_metadata={'token_usage': {'completion_tokens': 25, 'prompt_tokens': 109, 'total_tokens': 134, 'completion_tokens_details': {'accepted_prediction_tokens': 0, 'audio_tokens': 0, 'reasoning_tokens': 0, 'rejected_prediction_tokens': 0}, 'prompt_tokens_details': {'audio_tokens': 0, 'cached_tokens': 0}}, 'model_name': 'gpt-4o-mini-2024-07-18', 'system_fingerprint': 'fp_06737a9306', 'finish_reason': 'stop', 'logprobs': None}, id='run-9fbbe2bc-a370-45f2-9348-c35254a85d64-0', usage_metadata={'input_tokens': 109, 'output_tokens': 25, 'total_tokens': 134, 'input_token_details': {'audio': 0, 'cache_read': 0}, 'output_token_details': {'audio': 0, 'reasoning': 0}})]}, next=(), config={'configurable': {'thread_id': '1', 'checkpoint_ns': '', 'checkpoint_id': '1effd283-8820-654c-8004-69cd5b336c52'}}, metadata={'source': 'loop', 'writes': {'chatbot': {'messages': [AIMessage(content='Yes, I remember your name, Will! It’s nice to meet you. How can I help you today?', additional_kwargs={'refusal': None}, response_metadata={'token_usage': {'completion_tokens': 25, 'prompt_tokens': 109, 'total_tokens': 134, 'completion_tokens_details': {'accepted_prediction_tokens': 0, 'audio_tokens': 0, 'reasoning_tokens': 0, 'rejected_prediction_tokens': 0}, 'prompt_tokens_details': {'audio_tokens': 0, 'cached_tokens': 0}}, 'model_name': 'gpt-4o-mini-2024-07-18', 'system_fingerprint': 'fp_06737a9306', 'finish_reason': 'stop', 'logprobs': None}, id='run-9fbbe2bc-a370-45f2-9348-c35254a85d64-0', usage_metadata={'input_tokens': 109, 'output_tokens': 25, 'total_tokens': 134, 'input_token_details': {'audio': 0, 'cache_read': 0}, 'output_token_details': {'audio': 0, 'reasoning': 0}})]}}, 'thread_id': '1', 'step': 4, 'parents': {}}, created_at='2025-03-09T20:51:06.033850+00:00', parent_config={'configurable': {'thread_id': '1', 'checkpoint_ns': '', 'checkpoint_id': '1effd283-7f1f-67c2-8003-c73d0ca5f6a9'}}, tasks=())"
      ]
     },
     "execution_count": 28,
     "metadata": {},
     "output_type": "execute_result"
    }
   ],
   "source": [
    "snapshot = graph.get_state(config)\n",
    "snapshot"
   ]
  },
  {
   "cell_type": "code",
   "execution_count": 30,
   "metadata": {},
   "outputs": [
    {
     "data": {
      "text/plain": [
       "()"
      ]
     },
     "execution_count": 30,
     "metadata": {},
     "output_type": "execute_result"
    }
   ],
   "source": [
    "snapshot.next  # (since the graph ended this turn, `next` is empty. If you fetch a state from within a graph invocation, next tells which node will execute next)"
   ]
  },
  {
   "cell_type": "code",
   "execution_count": 47,
   "metadata": {},
   "outputs": [
    {
     "data": {
      "text/plain": [
       "<langgraph.graph.state.StateGraph at 0x11cf84450>"
      ]
     },
     "execution_count": 47,
     "metadata": {},
     "output_type": "execute_result"
    }
   ],
   "source": [
    "from typing import Annotated\n",
    "\n",
    "from langchain_community.tools.tavily_search import TavilySearchResults\n",
    "from langchain_core.tools import tool\n",
    "from typing_extensions import TypedDict\n",
    "\n",
    "from langgraph.checkpoint.memory import MemorySaver\n",
    "from langgraph.graph import StateGraph, START, END\n",
    "from langgraph.graph.message import add_messages\n",
    "from langgraph.prebuilt import ToolNode, tools_condition\n",
    "\n",
    "from langgraph.types import Command, interrupt\n",
    "\n",
    "\n",
    "class State(TypedDict):\n",
    "    messages: Annotated[list, add_messages]\n",
    "    name: str\n",
    "    birthday: str\n",
    "\n",
    "\n",
    "graph_builder = StateGraph(State)\n",
    "\n",
    "\n",
    "@tool\n",
    "def human_assistance(query: str) -> str:\n",
    "    \"\"\"Request assistance from a human.\"\"\"\n",
    "    human_response = interrupt({\"query\": query})\n",
    "    return human_response[\"data\"]\n",
    "\n",
    "\n",
    "tool = TavilySearchResults(max_results=2)\n",
    "tools = [tool, human_assistance]\n",
    "llm_with_tools = llm.bind_tools(tools)\n",
    "\n",
    "\n",
    "def chatbot(state: State):\n",
    "    message = llm_with_tools.invoke(state[\"messages\"])\n",
    "    # Because we will be interrupting during tool execution,\n",
    "    # we disable parallel tool calling to avoid repeating any\n",
    "    # tool invocations when we resume.\n",
    "    assert len(message.tool_calls) <= 1\n",
    "    return {\"messages\": [message]}\n",
    "\n",
    "\n",
    "graph_builder.add_node(\"chatbot\", chatbot)\n",
    "\n",
    "tool_node = ToolNode(tools=tools)\n",
    "graph_builder.add_node(\"tools\", tool_node)\n",
    "\n",
    "graph_builder.add_conditional_edges(\n",
    "    \"chatbot\",\n",
    "    tools_condition,\n",
    ")\n",
    "graph_builder.add_edge(\"tools\", \"chatbot\")\n",
    "graph_builder.add_edge(START, \"chatbot\")"
   ]
  },
  {
   "cell_type": "code",
   "execution_count": 41,
   "metadata": {},
   "outputs": [],
   "source": [
    "memory = MemorySaver()\n",
    "\n",
    "graph = graph_builder.compile(checkpointer=memory)"
   ]
  },
  {
   "cell_type": "code",
   "execution_count": 42,
   "metadata": {},
   "outputs": [
    {
     "data": {
      "image/png": "[encoded data removed]",
      "text/plain": [
       "<IPython.core.display.Image object>"
      ]
     },
     "metadata": {},
     "output_type": "display_data"
    }
   ],
   "source": [
    "from IPython.display import Image, display\n",
    "\n",
    "try:\n",
    "    display(Image(graph.get_graph().draw_mermaid_png()))\n",
    "except Exception:\n",
    "    # This requires some extra dependencies and is optional\n",
    "    pass"
   ]
  },
  {
   "cell_type": "code",
   "execution_count": 52,
   "metadata": {},
   "outputs": [],
   "source": [
    "from langchain_core.messages import ToolMessage\n",
    "from langchain_core.tools import InjectedToolCallId, tool\n",
    "\n",
    "from langgraph.types import Command, interrupt\n",
    "\n",
    "\n",
    "@tool\n",
    "# Note that because we are generating a ToolMessage for a state update, we\n",
    "# generally require the ID of the corresponding tool call. We can use\n",
    "# LangChain's InjectedToolCallId to signal that this argument should not\n",
    "# be revealed to the model in the tool's schema.\n",
    "def human_assistance(\n",
    "    name: str, birthday: str, tool_call_id: Annotated[str, InjectedToolCallId]\n",
    ") -> str:\n",
    "    \"\"\"Request assistance from a human.\"\"\"\n",
    "    human_response = interrupt(\n",
    "        {\n",
    "            \"question\": \"Is this correct?\",\n",
    "            \"name\": name,\n",
    "            \"birthday\": birthday,\n",
    "        },\n",
    "    )\n",
    "    # If the information is correct, update the state as-is.\n",
    "    if human_response.get(\"correct\", \"\").lower().startswith(\"y\"):\n",
    "        verified_name = name\n",
    "        verified_birthday = birthday\n",
    "        response = \"Correct\"\n",
    "    # Otherwise, receive information from the human reviewer.\n",
    "    else:\n",
    "        verified_name = human_response.get(\"name\", name)\n",
    "        verified_birthday = human_response.get(\"birthday\", birthday)\n",
    "        response = f\"Made a correction: {human_response}\"\n",
    "\n",
    "    # This time we explicitly update the state with a ToolMessage inside\n",
    "    # the tool.\n",
    "    state_update = {\n",
    "        \"name\": verified_name,\n",
    "        \"birthday\": verified_birthday,\n",
    "        \"messages\": [ToolMessage(response, tool_call_id=tool_call_id)],\n",
    "    }\n",
    "    # We return a Command object in the tool to update our state.\n",
    "    return Command(update=state_update)"
   ]
  },
  {
   "cell_type": "code",
   "execution_count": 53,
   "metadata": {},
   "outputs": [],
   "source": [
    "\n",
    "from langchain_community.tools.tavily_search import TavilySearchResults\n",
    "\n",
    "from langgraph.checkpoint.memory import MemorySaver\n",
    "from langgraph.graph import StateGraph, START, END\n",
    "from langgraph.prebuilt import ToolNode, tools_condition\n",
    "\n",
    "\n",
    "tool = TavilySearchResults(max_results=2)\n",
    "tools = [tool, human_assistance]\n",
    "llm_with_tools = llm.bind_tools(tools)\n",
    "\n",
    "\n",
    "def chatbot(state: State):\n",
    "    message = llm_with_tools.invoke(state[\"messages\"])\n",
    "    assert len(message.tool_calls) <= 1\n",
    "    return {\"messages\": [message]}\n",
    "\n",
    "\n",
    "graph_builder = StateGraph(State)\n",
    "graph_builder.add_node(\"chatbot\", chatbot)\n",
    "\n",
    "tool_node = ToolNode(tools=tools)\n",
    "graph_builder.add_node(\"tools\", tool_node)\n",
    "\n",
    "graph_builder.add_conditional_edges(\n",
    "    \"chatbot\",\n",
    "    tools_condition,\n",
    ")\n",
    "graph_builder.add_edge(\"tools\", \"chatbot\")\n",
    "graph_builder.add_edge(START, \"chatbot\")\n",
    "\n",
    "memory = MemorySaver()\n",
    "graph = graph_builder.compile(checkpointer=memory)"
   ]
  },
  {
   "cell_type": "code",
   "execution_count": 54,
   "metadata": {},
   "outputs": [
    {
     "name": "stdout",
     "output_type": "stream",
     "text": [
      "================================\u001b[1m Human Message \u001b[0m=================================\n",
      "\n",
      "Can you look up when LangGraph was released? When you have the answer, use the human_assistance tool for review.\n",
      "==================================\u001b[1m Ai Message \u001b[0m==================================\n",
      "Tool Calls:\n",
      "  tavily_search_results_json (call_h5QsARV59plzrHDMb9OfSHpT)\n",
      " Call ID: call_h5QsARV59plzrHDMb9OfSHpT\n",
      "  Args:\n",
      "    query: LangGraph release date\n",
      "=================================\u001b[1m Tool Message \u001b[0m=================================\n",
      "Name: tavily_search_results_json\n",
      "\n",
      "[{\"title\": \"Releases · langchain-ai/langgraph - GitHub\", \"url\": \"https://github.com/langchain-ai/langgraph/releases\", \"content\": \"Releases · langchain-ai/langgraph · GitHub Search code, repositories, users, issues, pull requests... Releases: langchain-ai/langgraph Releases · langchain-ai/langgraph langgraph: release 0.2.70 (#3341) langgraph: add agent name to AI messages in create_react_agent (#3340) fix(langgraph): Dedupe input (right-side) messages in add_messages (#3338) Merge branch 'jacob/dedupe' of github.com:langchain-ai/langgraph into jacob/dedupe langgraph: release 0.2.69 (#3256) docs: update README to include built w/ langgraph (#3254) langgraph: add get_stream_writer() (#3251) langgraph: release 0.2.68 (#3224) langgraph: actually fix flaky test (#3219) langgraph: use 'prompt' param for model input preprocessing in create_react_agent (#3173) langgraph: fix flaky test (#3218) langgraph: add names for tasks (#3202) langgraph: update docstrings/api ref for functional api (#3176) langgraph: add support for BaseModel updates to Command (#2747) langgraph: allow async state modifier in create_react_agent (#3161)\", \"score\": 0.72418857}, {\"title\": \"langgraph · PyPI\", \"url\": \"https://pypi.org/project/langgraph/\", \"content\": \"LangGraph is a library for building stateful, multi-actor applications with LLMs, used to create agent and multi-agent workflows. The simplest way to create a tool-calling agent in LangGraph is to use create_react_agent: # Define the tools for the agent to use # Define the tools for the agent to use # This means that after `tools` is called, `agent` node is called next. workflow.add_edge(\\\"tools\\\", 'agent') Normal edge: after the tools are invoked, the graph should always return to the agent to decide what to do next LangGraph adds the input message to the internal state, then passes the state to the entrypoint node, \\\"agent\\\". langgraph-0.2.70-py3-none-any.whl (149.7 kB view details)Uploaded Feb 6, 2025 Python 3\", \"score\": 0.68571854}]\n",
      "==================================\u001b[1m Ai Message \u001b[0m==================================\n",
      "Tool Calls:\n",
      "  human_assistance (call_DUhYHxf9RiAikRhFSdhdB2ZP)\n",
      " Call ID: call_DUhYHxf9RiAikRhFSdhdB2ZP\n",
      "  Args:\n",
      "    name: LangGraph\n",
      "    birthday: 2025-02-06\n"
     ]
    }
   ],
   "source": [
    "user_input = (\n",
    "    \"Can you look up when LangGraph was released? \"\n",
    "    \"When you have the answer, use the human_assistance tool for review.\"\n",
    ")\n",
    "config = {\"configurable\": {\"thread_id\": \"1\"}}\n",
    "\n",
    "events = graph.stream(\n",
    "    {\"messages\": [{\"role\": \"user\", \"content\": user_input}]},\n",
    "    config,\n",
    "    stream_mode=\"values\",\n",
    ")\n",
    "for event in events:\n",
    "    if \"messages\" in event:\n",
    "        event[\"messages\"][-1].pretty_print()"
   ]
  },
  {
   "cell_type": "code",
   "execution_count": 55,
   "metadata": {},
   "outputs": [
    {
     "name": "stdout",
     "output_type": "stream",
     "text": [
      "==================================\u001b[1m Ai Message \u001b[0m==================================\n",
      "Tool Calls:\n",
      "  human_assistance (call_DUhYHxf9RiAikRhFSdhdB2ZP)\n",
      " Call ID: call_DUhYHxf9RiAikRhFSdhdB2ZP\n",
      "  Args:\n",
      "    name: LangGraph\n",
      "    birthday: 2025-02-06\n",
      "=================================\u001b[1m Tool Message \u001b[0m=================================\n",
      "Name: human_assistance\n",
      "\n",
      "Made a correction: {'name': 'LangGraph', 'birthday': 'Jan 17, 2024'}\n",
      "==================================\u001b[1m Ai Message \u001b[0m==================================\n",
      "\n",
      "LangGraph was released on **January 17, 2024**.\n"
     ]
    }
   ],
   "source": [
    "human_command = Command(\n",
    "    resume={\n",
    "        \"name\": \"LangGraph\",\n",
    "        \"birthday\": \"Jan 17, 2024\",\n",
    "    },\n",
    ")\n",
    "\n",
    "events = graph.stream(human_command, config, stream_mode=\"values\")\n",
    "for event in events:\n",
    "    if \"messages\" in event:\n",
    "        event[\"messages\"][-1].pretty_print()"
   ]
  },
  {
   "cell_type": "code",
   "execution_count": 56,
   "metadata": {},
   "outputs": [
    {
     "name": "stdout",
     "output_type": "stream",
     "text": [
      "================================\u001b[1m Human Message \u001b[0m=================================\n",
      "\n",
      "Can you look up when LangGraph was released? When you have the answer, use the human_assistance tool for review.\n",
      "==================================\u001b[1m Ai Message \u001b[0m==================================\n",
      "Tool Calls:\n",
      "  tavily_search_results_json (call_gmXtGYKMpfq8KIJDgnt2Bjgo)\n",
      " Call ID: call_gmXtGYKMpfq8KIJDgnt2Bjgo\n",
      "  Args:\n",
      "    query: LangGraph release date\n",
      "=================================\u001b[1m Tool Message \u001b[0m=================================\n",
      "Name: tavily_search_results_json\n",
      "\n",
      "[{\"title\": \"Releases · langchain-ai/langgraph - GitHub\", \"url\": \"https://github.com/langchain-ai/langgraph/releases\", \"content\": \"Releases · langchain-ai/langgraph · GitHub Search code, repositories, users, issues, pull requests... Releases: langchain-ai/langgraph Releases · langchain-ai/langgraph langgraph: release 0.2.70 (#3341) langgraph: add agent name to AI messages in create_react_agent (#3340) fix(langgraph): Dedupe input (right-side) messages in add_messages (#3338) Merge branch 'jacob/dedupe' of github.com:langchain-ai/langgraph into jacob/dedupe langgraph: release 0.2.69 (#3256) docs: update README to include built w/ langgraph (#3254) langgraph: add get_stream_writer() (#3251) langgraph: release 0.2.68 (#3224) langgraph: actually fix flaky test (#3219) langgraph: use 'prompt' param for model input preprocessing in create_react_agent (#3173) langgraph: fix flaky test (#3218) langgraph: add names for tasks (#3202) langgraph: update docstrings/api ref for functional api (#3176) langgraph: add support for BaseModel updates to Command (#2747) langgraph: allow async state modifier in create_react_agent (#3161)\", \"score\": 0.72418857}, {\"title\": \"langgraph · PyPI\", \"url\": \"https://pypi.org/project/langgraph/\", \"content\": \"LangGraph is a library for building stateful, multi-actor applications with LLMs, used to create agent and multi-agent workflows. The simplest way to create a tool-calling agent in LangGraph is to use create_react_agent: # Define the tools for the agent to use # Define the tools for the agent to use # This means that after `tools` is called, `agent` node is called next. workflow.add_edge(\\\"tools\\\", 'agent') Normal edge: after the tools are invoked, the graph should always return to the agent to decide what to do next LangGraph adds the input message to the internal state, then passes the state to the entrypoint node, \\\"agent\\\". langgraph-0.2.70-py3-none-any.whl (149.7 kB view details)Uploaded Feb 6, 2025 Python 3\", \"score\": 0.68571854}]\n",
      "==================================\u001b[1m Ai Message \u001b[0m==================================\n",
      "Tool Calls:\n",
      "  human_assistance (call_9oZsl5600lUglmwSxd5uxlRX)\n",
      " Call ID: call_9oZsl5600lUglmwSxd5uxlRX\n",
      "  Args:\n",
      "    name: LangGraph\n",
      "    birthday: 2025-02-06\n"
     ]
    }
   ],
   "source": [
    "user_input = (\n",
    "    \"Can you look up when LangGraph was released? \"\n",
    "    \"When you have the answer, use the human_assistance tool for review.\"\n",
    ")\n",
    "config = {\"configurable\": {\"thread_id\": \"1\"}}\n",
    "\n",
    "events = graph.stream(\n",
    "    {\"messages\": [{\"role\": \"user\", \"content\": user_input}]},\n",
    "    config,\n",
    "    stream_mode=\"values\",\n",
    ")\n",
    "for event in events:\n",
    "    if \"messages\" in event:\n",
    "        event[\"messages\"][-1].pretty_print()"
   ]
  },
  {
   "cell_type": "code",
   "execution_count": 57,
   "metadata": {},
   "outputs": [
    {
     "data": {
      "text/plain": [
       "{'name': 'LangGraph', 'birthday': 'Jan 17, 2024'}"
      ]
     },
     "execution_count": 57,
     "metadata": {},
     "output_type": "execute_result"
    }
   ],
   "source": [
    "snapshot = graph.get_state(config)\n",
    "\n",
    "{k: v for k, v in snapshot.values.items() if k in (\"name\", \"birthday\")}"
   ]
  },
  {
   "cell_type": "code",
   "execution_count": 58,
   "metadata": {},
   "outputs": [
    {
     "data": {
      "text/plain": [
       "{'configurable': {'thread_id': '1',\n",
       "  'checkpoint_ns': '',\n",
       "  'checkpoint_id': '1effd29e-faae-6e7c-800b-6b7c64239d21'}}"
      ]
     },
     "execution_count": 58,
     "metadata": {},
     "output_type": "execute_result"
    }
   ],
   "source": [
    "graph.update_state(config, {\"name\": \"LangGraph (library)\"})"
   ]
  },
  {
   "cell_type": "code",
   "execution_count": 59,
   "metadata": {},
   "outputs": [
    {
     "data": {
      "text/plain": [
       "{'name': 'LangGraph (library)', 'birthday': 'Jan 17, 2024'}"
      ]
     },
     "execution_count": 59,
     "metadata": {},
     "output_type": "execute_result"
    }
   ],
   "source": [
    "snapshot = graph.get_state(config)\n",
    "\n",
    "{k: v for k, v in snapshot.values.items() if k in (\"name\", \"birthday\")}"
   ]
  },
  {
   "cell_type": "code",
   "execution_count": null,
   "metadata": {},
   "outputs": [],
   "source": []
  }
 ],
 "metadata": {
  "kernelspec": {
   "display_name": "venv",
   "language": "python",
   "name": "python3"
  },
  "language_info": {
   "codemirror_mode": {
    "name": "ipython",
    "version": 3
   },
   "file_extension": ".py",
   "mimetype": "text/x-python",
   "name": "python",
   "nbconvert_exporter": "python",
   "pygments_lexer": "ipython3",
   "version": "3.11.10"
  }
 },
 "nbformat": 4,
 "nbformat_minor": 2
}
